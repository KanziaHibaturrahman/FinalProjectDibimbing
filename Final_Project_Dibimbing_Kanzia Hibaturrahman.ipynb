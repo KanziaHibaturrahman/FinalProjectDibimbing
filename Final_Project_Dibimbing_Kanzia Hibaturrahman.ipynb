{
  "nbformat": 4,
  "nbformat_minor": 0,
  "metadata": {
    "colab": {
      "name": "Final Project Dibimbing - Kanzia",
      "provenance": [],
      "collapsed_sections": [
        "3g59208TUX61",
        "MQsmAw3559B9",
        "67pAQ4JjOkoP"
      ]
    },
    "kernelspec": {
      "display_name": "Python 3",
      "name": "python3"
    }
  },
  "cells": [
    {
      "cell_type": "markdown",
      "metadata": {
        "id": "3g59208TUX61"
      },
      "source": [
        "# **FINAL PROJECT DIBIMBING**\n",
        "Saya menggunakan K-Means Clustering dan Unsupervised Learning\n",
        "untuk meningkatkan transaksi di suatu pusat belanja"
      ]
    },
    {
      "cell_type": "markdown",
      "metadata": {
        "id": "ebDhsyCBEQQI"
      },
      "source": [
        "# **Unsupervised  Quick Introduction**\n",
        "**Unsupervised Learning** is a machine learning technique in which the users do not need to supervise the model. Instead, it allows the model to work on its own to discover patterns and information that was previously undetected."
      ]
    },
    {
      "cell_type": "code",
      "metadata": {
        "id": "ExJEeAGZvIxl"
      },
      "source": [
        "# import EDA library\n",
        "import pandas as pd\n",
        "import numpy as np\n",
        "import seaborn as sns"
      ],
      "execution_count": 1,
      "outputs": []
    },
    {
      "cell_type": "code",
      "metadata": {
        "id": "4A1y8UZH5k5h"
      },
      "source": [
        "# import sklearn library\n",
        "import sklearn.datasets as datasets\n",
        "import sklearn.preprocessing as preprocessing\n",
        "import sklearn.decomposition as decomposition\n",
        "import sklearn.cluster as cluster\n",
        "from sklearn.cluster import KMeans"
      ],
      "execution_count": 3,
      "outputs": []
    },
    {
      "cell_type": "code",
      "metadata": {
        "colab": {
          "base_uri": "https://localhost:8080/"
        },
        "id": "xx5L0kZiRFyL",
        "outputId": "086a5910-3f86-41ab-dd52-a0653a95ea59"
      },
      "source": [
        "# install library\n",
        "!pip install scikit-plot"
      ],
      "execution_count": 4,
      "outputs": [
        {
          "output_type": "stream",
          "text": [
            "Requirement already satisfied: scikit-plot in /usr/local/lib/python3.7/dist-packages (0.3.7)\n",
            "Requirement already satisfied: matplotlib>=1.4.0 in /usr/local/lib/python3.7/dist-packages (from scikit-plot) (3.2.2)\n",
            "Requirement already satisfied: scikit-learn>=0.18 in /usr/local/lib/python3.7/dist-packages (from scikit-plot) (0.22.2.post1)\n",
            "Requirement already satisfied: scipy>=0.9 in /usr/local/lib/python3.7/dist-packages (from scikit-plot) (1.4.1)\n",
            "Requirement already satisfied: joblib>=0.10 in /usr/local/lib/python3.7/dist-packages (from scikit-plot) (1.0.1)\n",
            "Requirement already satisfied: kiwisolver>=1.0.1 in /usr/local/lib/python3.7/dist-packages (from matplotlib>=1.4.0->scikit-plot) (1.3.1)\n",
            "Requirement already satisfied: numpy>=1.11 in /usr/local/lib/python3.7/dist-packages (from matplotlib>=1.4.0->scikit-plot) (1.19.5)\n",
            "Requirement already satisfied: pyparsing!=2.0.4,!=2.1.2,!=2.1.6,>=2.0.1 in /usr/local/lib/python3.7/dist-packages (from matplotlib>=1.4.0->scikit-plot) (2.4.7)\n",
            "Requirement already satisfied: cycler>=0.10 in /usr/local/lib/python3.7/dist-packages (from matplotlib>=1.4.0->scikit-plot) (0.10.0)\n",
            "Requirement already satisfied: python-dateutil>=2.1 in /usr/local/lib/python3.7/dist-packages (from matplotlib>=1.4.0->scikit-plot) (2.8.1)\n",
            "Requirement already satisfied: six in /usr/local/lib/python3.7/dist-packages (from cycler>=0.10->matplotlib>=1.4.0->scikit-plot) (1.15.0)\n"
          ],
          "name": "stdout"
        }
      ]
    },
    {
      "cell_type": "code",
      "metadata": {
        "id": "E2m_-NlII6OS"
      },
      "source": [
        "# import graph library\n",
        "import matplotlib.pyplot as plt\n",
        "import scikitplot as skplt"
      ],
      "execution_count": 5,
      "outputs": []
    },
    {
      "cell_type": "markdown",
      "metadata": {
        "id": "G8hdBuBa4xCI"
      },
      "source": [
        "# **Load data**\n"
      ]
    },
    {
      "cell_type": "code",
      "metadata": {
        "colab": {
          "base_uri": "https://localhost:8080/"
        },
        "id": "Dv3OitWeBU-p",
        "outputId": "4d22fba7-30d7-48e7-ce89-6ad170ce4cd2"
      },
      "source": [
        "# mounted google drive\n",
        "import google.colab as gc\n",
        "gc.drive.mount('/content/drive')"
      ],
      "execution_count": 6,
      "outputs": [
        {
          "output_type": "stream",
          "text": [
            "Drive already mounted at /content/drive; to attempt to forcibly remount, call drive.mount(\"/content/drive\", force_remount=True).\n"
          ],
          "name": "stdout"
        }
      ]
    },
    {
      "cell_type": "code",
      "metadata": {
        "colab": {
          "base_uri": "https://localhost:8080/"
        },
        "id": "FNt6l3KmBiST",
        "outputId": "7d77e280-b282-4efa-8bde-6be8cf993d09"
      },
      "source": [
        "# change folder\n",
        "%cd '/content/drive/MyDrive/Class-20210420-01/Muhammad Kanzia_Day 22/cc'"
      ],
      "execution_count": 7,
      "outputs": [
        {
          "output_type": "stream",
          "text": [
            "/content/drive/.shortcut-targets-by-id/1Atr52kQtpKI__DG99japz14wr8jXJe6S/Class-20210420-01/Muhammad Kanzia_Day 22/cc\n"
          ],
          "name": "stdout"
        }
      ]
    },
    {
      "cell_type": "code",
      "metadata": {
        "colab": {
          "base_uri": "https://localhost:8080/"
        },
        "id": "9FapAt49B05D",
        "outputId": "d34d44fd-aa7a-479e-eae3-9d24465f8865"
      },
      "source": [
        "# check file in folder\n",
        "!ls"
      ],
      "execution_count": 8,
      "outputs": [
        {
          "output_type": "stream",
          "text": [
            " archive.zip\t\t\t GlobalTemperatures.csv\n",
            "'archive.zip (Unzipped Files)'\t Mall_Customers.csv\n",
            "'GlobalTemperatures (1).csv'\n"
          ],
          "name": "stdout"
        }
      ]
    },
    {
      "cell_type": "code",
      "metadata": {
        "colab": {
          "base_uri": "https://localhost:8080/",
          "height": 357
        },
        "id": "4akqJiZ-B6T6",
        "outputId": "e9dc72d2-0a47-41a3-fa0e-f8d1fcedd338"
      },
      "source": [
        "# read the data\n",
        "df = pd.read_csv('Mall_Customers.csv')\n",
        "df.head(10)"
      ],
      "execution_count": 9,
      "outputs": [
        {
          "output_type": "execute_result",
          "data": {
            "text/html": [
              "<div>\n",
              "<style scoped>\n",
              "    .dataframe tbody tr th:only-of-type {\n",
              "        vertical-align: middle;\n",
              "    }\n",
              "\n",
              "    .dataframe tbody tr th {\n",
              "        vertical-align: top;\n",
              "    }\n",
              "\n",
              "    .dataframe thead th {\n",
              "        text-align: right;\n",
              "    }\n",
              "</style>\n",
              "<table border=\"1\" class=\"dataframe\">\n",
              "  <thead>\n",
              "    <tr style=\"text-align: right;\">\n",
              "      <th></th>\n",
              "      <th>CustomerID</th>\n",
              "      <th>Genre</th>\n",
              "      <th>Age</th>\n",
              "      <th>Annual Income (k$)</th>\n",
              "      <th>Spending Score (1-100)</th>\n",
              "    </tr>\n",
              "  </thead>\n",
              "  <tbody>\n",
              "    <tr>\n",
              "      <th>0</th>\n",
              "      <td>1</td>\n",
              "      <td>Male</td>\n",
              "      <td>19</td>\n",
              "      <td>15</td>\n",
              "      <td>39</td>\n",
              "    </tr>\n",
              "    <tr>\n",
              "      <th>1</th>\n",
              "      <td>2</td>\n",
              "      <td>Male</td>\n",
              "      <td>21</td>\n",
              "      <td>15</td>\n",
              "      <td>81</td>\n",
              "    </tr>\n",
              "    <tr>\n",
              "      <th>2</th>\n",
              "      <td>3</td>\n",
              "      <td>Female</td>\n",
              "      <td>20</td>\n",
              "      <td>16</td>\n",
              "      <td>6</td>\n",
              "    </tr>\n",
              "    <tr>\n",
              "      <th>3</th>\n",
              "      <td>4</td>\n",
              "      <td>Female</td>\n",
              "      <td>23</td>\n",
              "      <td>16</td>\n",
              "      <td>77</td>\n",
              "    </tr>\n",
              "    <tr>\n",
              "      <th>4</th>\n",
              "      <td>5</td>\n",
              "      <td>Female</td>\n",
              "      <td>31</td>\n",
              "      <td>17</td>\n",
              "      <td>40</td>\n",
              "    </tr>\n",
              "    <tr>\n",
              "      <th>5</th>\n",
              "      <td>6</td>\n",
              "      <td>Female</td>\n",
              "      <td>22</td>\n",
              "      <td>17</td>\n",
              "      <td>76</td>\n",
              "    </tr>\n",
              "    <tr>\n",
              "      <th>6</th>\n",
              "      <td>7</td>\n",
              "      <td>Female</td>\n",
              "      <td>35</td>\n",
              "      <td>18</td>\n",
              "      <td>6</td>\n",
              "    </tr>\n",
              "    <tr>\n",
              "      <th>7</th>\n",
              "      <td>8</td>\n",
              "      <td>Female</td>\n",
              "      <td>23</td>\n",
              "      <td>18</td>\n",
              "      <td>94</td>\n",
              "    </tr>\n",
              "    <tr>\n",
              "      <th>8</th>\n",
              "      <td>9</td>\n",
              "      <td>Male</td>\n",
              "      <td>64</td>\n",
              "      <td>19</td>\n",
              "      <td>3</td>\n",
              "    </tr>\n",
              "    <tr>\n",
              "      <th>9</th>\n",
              "      <td>10</td>\n",
              "      <td>Female</td>\n",
              "      <td>30</td>\n",
              "      <td>19</td>\n",
              "      <td>72</td>\n",
              "    </tr>\n",
              "  </tbody>\n",
              "</table>\n",
              "</div>"
            ],
            "text/plain": [
              "   CustomerID   Genre  Age  Annual Income (k$)  Spending Score (1-100)\n",
              "0           1    Male   19                  15                      39\n",
              "1           2    Male   21                  15                      81\n",
              "2           3  Female   20                  16                       6\n",
              "3           4  Female   23                  16                      77\n",
              "4           5  Female   31                  17                      40\n",
              "5           6  Female   22                  17                      76\n",
              "6           7  Female   35                  18                       6\n",
              "7           8  Female   23                  18                      94\n",
              "8           9    Male   64                  19                       3\n",
              "9          10  Female   30                  19                      72"
            ]
          },
          "metadata": {
            "tags": []
          },
          "execution_count": 9
        }
      ]
    },
    {
      "cell_type": "markdown",
      "metadata": {
        "id": "XOqQeUHJ4xCU"
      },
      "source": [
        "# **Exploratory Data Analysis**"
      ]
    },
    {
      "cell_type": "code",
      "metadata": {
        "colab": {
          "base_uri": "https://localhost:8080/"
        },
        "id": "j3VXVz4ECM2a",
        "outputId": "c8d8bd03-dc2a-4b99-9297-4cd987b3a083"
      },
      "source": [
        "#Getting to know the shape of data\n",
        "print(df.shape)"
      ],
      "execution_count": 10,
      "outputs": [
        {
          "output_type": "stream",
          "text": [
            "(200, 5)\n"
          ],
          "name": "stdout"
        }
      ]
    },
    {
      "cell_type": "code",
      "metadata": {
        "colab": {
          "base_uri": "https://localhost:8080/"
        },
        "id": "R_QDiyV5DB1A",
        "outputId": "9549d5bb-62c2-4468-ee6f-f9193981aaeb"
      },
      "source": [
        "# simple data checking - get dataframe general information\n",
        "df.info()"
      ],
      "execution_count": 11,
      "outputs": [
        {
          "output_type": "stream",
          "text": [
            "<class 'pandas.core.frame.DataFrame'>\n",
            "RangeIndex: 200 entries, 0 to 199\n",
            "Data columns (total 5 columns):\n",
            " #   Column                  Non-Null Count  Dtype \n",
            "---  ------                  --------------  ----- \n",
            " 0   CustomerID              200 non-null    int64 \n",
            " 1   Genre                   200 non-null    object\n",
            " 2   Age                     200 non-null    int64 \n",
            " 3   Annual Income (k$)      200 non-null    int64 \n",
            " 4   Spending Score (1-100)  200 non-null    int64 \n",
            "dtypes: int64(4), object(1)\n",
            "memory usage: 7.9+ KB\n"
          ],
          "name": "stdout"
        }
      ]
    },
    {
      "cell_type": "code",
      "metadata": {
        "colab": {
          "base_uri": "https://localhost:8080/"
        },
        "id": "LD1Jq7pQB9rz",
        "outputId": "4693fda4-995e-4908-d9d9-1ac79de8d17d"
      },
      "source": [
        "print(df.columns)"
      ],
      "execution_count": 12,
      "outputs": [
        {
          "output_type": "stream",
          "text": [
            "Index(['CustomerID', 'Genre', 'Age', 'Annual Income (k$)',\n",
            "       'Spending Score (1-100)'],\n",
            "      dtype='object')\n"
          ],
          "name": "stdout"
        }
      ]
    },
    {
      "cell_type": "code",
      "metadata": {
        "colab": {
          "base_uri": "https://localhost:8080/",
          "height": 417
        },
        "id": "XVC0B867EYnR",
        "outputId": "1731bb92-99a3-4d10-fde5-fd02b20a8279"
      },
      "source": [
        "# rename column name\n",
        "df = df.rename(columns={'Annual Income (k$)':'Income','Spending Score (1-100)':'Spending', 'Genre':'Sex'})\n",
        "df"
      ],
      "execution_count": 13,
      "outputs": [
        {
          "output_type": "execute_result",
          "data": {
            "text/html": [
              "<div>\n",
              "<style scoped>\n",
              "    .dataframe tbody tr th:only-of-type {\n",
              "        vertical-align: middle;\n",
              "    }\n",
              "\n",
              "    .dataframe tbody tr th {\n",
              "        vertical-align: top;\n",
              "    }\n",
              "\n",
              "    .dataframe thead th {\n",
              "        text-align: right;\n",
              "    }\n",
              "</style>\n",
              "<table border=\"1\" class=\"dataframe\">\n",
              "  <thead>\n",
              "    <tr style=\"text-align: right;\">\n",
              "      <th></th>\n",
              "      <th>CustomerID</th>\n",
              "      <th>Sex</th>\n",
              "      <th>Age</th>\n",
              "      <th>Income</th>\n",
              "      <th>Spending</th>\n",
              "    </tr>\n",
              "  </thead>\n",
              "  <tbody>\n",
              "    <tr>\n",
              "      <th>0</th>\n",
              "      <td>1</td>\n",
              "      <td>Male</td>\n",
              "      <td>19</td>\n",
              "      <td>15</td>\n",
              "      <td>39</td>\n",
              "    </tr>\n",
              "    <tr>\n",
              "      <th>1</th>\n",
              "      <td>2</td>\n",
              "      <td>Male</td>\n",
              "      <td>21</td>\n",
              "      <td>15</td>\n",
              "      <td>81</td>\n",
              "    </tr>\n",
              "    <tr>\n",
              "      <th>2</th>\n",
              "      <td>3</td>\n",
              "      <td>Female</td>\n",
              "      <td>20</td>\n",
              "      <td>16</td>\n",
              "      <td>6</td>\n",
              "    </tr>\n",
              "    <tr>\n",
              "      <th>3</th>\n",
              "      <td>4</td>\n",
              "      <td>Female</td>\n",
              "      <td>23</td>\n",
              "      <td>16</td>\n",
              "      <td>77</td>\n",
              "    </tr>\n",
              "    <tr>\n",
              "      <th>4</th>\n",
              "      <td>5</td>\n",
              "      <td>Female</td>\n",
              "      <td>31</td>\n",
              "      <td>17</td>\n",
              "      <td>40</td>\n",
              "    </tr>\n",
              "    <tr>\n",
              "      <th>...</th>\n",
              "      <td>...</td>\n",
              "      <td>...</td>\n",
              "      <td>...</td>\n",
              "      <td>...</td>\n",
              "      <td>...</td>\n",
              "    </tr>\n",
              "    <tr>\n",
              "      <th>195</th>\n",
              "      <td>196</td>\n",
              "      <td>Female</td>\n",
              "      <td>35</td>\n",
              "      <td>120</td>\n",
              "      <td>79</td>\n",
              "    </tr>\n",
              "    <tr>\n",
              "      <th>196</th>\n",
              "      <td>197</td>\n",
              "      <td>Female</td>\n",
              "      <td>45</td>\n",
              "      <td>126</td>\n",
              "      <td>28</td>\n",
              "    </tr>\n",
              "    <tr>\n",
              "      <th>197</th>\n",
              "      <td>198</td>\n",
              "      <td>Male</td>\n",
              "      <td>32</td>\n",
              "      <td>126</td>\n",
              "      <td>74</td>\n",
              "    </tr>\n",
              "    <tr>\n",
              "      <th>198</th>\n",
              "      <td>199</td>\n",
              "      <td>Male</td>\n",
              "      <td>32</td>\n",
              "      <td>137</td>\n",
              "      <td>18</td>\n",
              "    </tr>\n",
              "    <tr>\n",
              "      <th>199</th>\n",
              "      <td>200</td>\n",
              "      <td>Male</td>\n",
              "      <td>30</td>\n",
              "      <td>137</td>\n",
              "      <td>83</td>\n",
              "    </tr>\n",
              "  </tbody>\n",
              "</table>\n",
              "<p>200 rows × 5 columns</p>\n",
              "</div>"
            ],
            "text/plain": [
              "     CustomerID     Sex  Age  Income  Spending\n",
              "0             1    Male   19      15        39\n",
              "1             2    Male   21      15        81\n",
              "2             3  Female   20      16         6\n",
              "3             4  Female   23      16        77\n",
              "4             5  Female   31      17        40\n",
              "..          ...     ...  ...     ...       ...\n",
              "195         196  Female   35     120        79\n",
              "196         197  Female   45     126        28\n",
              "197         198    Male   32     126        74\n",
              "198         199    Male   32     137        18\n",
              "199         200    Male   30     137        83\n",
              "\n",
              "[200 rows x 5 columns]"
            ]
          },
          "metadata": {
            "tags": []
          },
          "execution_count": 13
        }
      ]
    },
    {
      "cell_type": "code",
      "metadata": {
        "id": "dhEAnuWQ4xCW"
      },
      "source": [
        "# assign variable for column in numeric type\n",
        "numeric_column = ['Age', 'Income', 'Spending']"
      ],
      "execution_count": 15,
      "outputs": []
    },
    {
      "cell_type": "code",
      "metadata": {
        "colab": {
          "base_uri": "https://localhost:8080/",
          "height": 295
        },
        "id": "6MZA8aOJ4xCX",
        "outputId": "8e09d6e0-04be-4957-d71b-aa0b6e41fcb8"
      },
      "source": [
        "# check simple statistic of the numeric value\n",
        "df[numeric_column].describe()"
      ],
      "execution_count": 16,
      "outputs": [
        {
          "output_type": "execute_result",
          "data": {
            "text/html": [
              "<div>\n",
              "<style scoped>\n",
              "    .dataframe tbody tr th:only-of-type {\n",
              "        vertical-align: middle;\n",
              "    }\n",
              "\n",
              "    .dataframe tbody tr th {\n",
              "        vertical-align: top;\n",
              "    }\n",
              "\n",
              "    .dataframe thead th {\n",
              "        text-align: right;\n",
              "    }\n",
              "</style>\n",
              "<table border=\"1\" class=\"dataframe\">\n",
              "  <thead>\n",
              "    <tr style=\"text-align: right;\">\n",
              "      <th></th>\n",
              "      <th>Age</th>\n",
              "      <th>Income</th>\n",
              "      <th>Spending</th>\n",
              "    </tr>\n",
              "  </thead>\n",
              "  <tbody>\n",
              "    <tr>\n",
              "      <th>count</th>\n",
              "      <td>200.000000</td>\n",
              "      <td>200.000000</td>\n",
              "      <td>200.000000</td>\n",
              "    </tr>\n",
              "    <tr>\n",
              "      <th>mean</th>\n",
              "      <td>38.850000</td>\n",
              "      <td>60.560000</td>\n",
              "      <td>50.200000</td>\n",
              "    </tr>\n",
              "    <tr>\n",
              "      <th>std</th>\n",
              "      <td>13.969007</td>\n",
              "      <td>26.264721</td>\n",
              "      <td>25.823522</td>\n",
              "    </tr>\n",
              "    <tr>\n",
              "      <th>min</th>\n",
              "      <td>18.000000</td>\n",
              "      <td>15.000000</td>\n",
              "      <td>1.000000</td>\n",
              "    </tr>\n",
              "    <tr>\n",
              "      <th>25%</th>\n",
              "      <td>28.750000</td>\n",
              "      <td>41.500000</td>\n",
              "      <td>34.750000</td>\n",
              "    </tr>\n",
              "    <tr>\n",
              "      <th>50%</th>\n",
              "      <td>36.000000</td>\n",
              "      <td>61.500000</td>\n",
              "      <td>50.000000</td>\n",
              "    </tr>\n",
              "    <tr>\n",
              "      <th>75%</th>\n",
              "      <td>49.000000</td>\n",
              "      <td>78.000000</td>\n",
              "      <td>73.000000</td>\n",
              "    </tr>\n",
              "    <tr>\n",
              "      <th>max</th>\n",
              "      <td>70.000000</td>\n",
              "      <td>137.000000</td>\n",
              "      <td>99.000000</td>\n",
              "    </tr>\n",
              "  </tbody>\n",
              "</table>\n",
              "</div>"
            ],
            "text/plain": [
              "              Age      Income    Spending\n",
              "count  200.000000  200.000000  200.000000\n",
              "mean    38.850000   60.560000   50.200000\n",
              "std     13.969007   26.264721   25.823522\n",
              "min     18.000000   15.000000    1.000000\n",
              "25%     28.750000   41.500000   34.750000\n",
              "50%     36.000000   61.500000   50.000000\n",
              "75%     49.000000   78.000000   73.000000\n",
              "max     70.000000  137.000000   99.000000"
            ]
          },
          "metadata": {
            "tags": []
          },
          "execution_count": 16
        }
      ]
    },
    {
      "cell_type": "code",
      "metadata": {
        "colab": {
          "base_uri": "https://localhost:8080/",
          "height": 49
        },
        "id": "Aawf25VE4xCX",
        "outputId": "532ee275-99d4-47e0-afe8-5bb00eecffb8"
      },
      "source": [
        "# check standard missing value - multiple column\n",
        "df[df.isnull().any(axis=1)]"
      ],
      "execution_count": 17,
      "outputs": [
        {
          "output_type": "execute_result",
          "data": {
            "text/html": [
              "<div>\n",
              "<style scoped>\n",
              "    .dataframe tbody tr th:only-of-type {\n",
              "        vertical-align: middle;\n",
              "    }\n",
              "\n",
              "    .dataframe tbody tr th {\n",
              "        vertical-align: top;\n",
              "    }\n",
              "\n",
              "    .dataframe thead th {\n",
              "        text-align: right;\n",
              "    }\n",
              "</style>\n",
              "<table border=\"1\" class=\"dataframe\">\n",
              "  <thead>\n",
              "    <tr style=\"text-align: right;\">\n",
              "      <th></th>\n",
              "      <th>CustomerID</th>\n",
              "      <th>Sex</th>\n",
              "      <th>Age</th>\n",
              "      <th>Income</th>\n",
              "      <th>Spending</th>\n",
              "    </tr>\n",
              "  </thead>\n",
              "  <tbody>\n",
              "  </tbody>\n",
              "</table>\n",
              "</div>"
            ],
            "text/plain": [
              "Empty DataFrame\n",
              "Columns: [CustomerID, Sex, Age, Income, Spending]\n",
              "Index: []"
            ]
          },
          "metadata": {
            "tags": []
          },
          "execution_count": 17
        }
      ]
    },
    {
      "cell_type": "code",
      "metadata": {
        "colab": {
          "base_uri": "https://localhost:8080/",
          "height": 296
        },
        "id": "QcP9fY8ESrnt",
        "outputId": "d855dde8-838a-43c0-9813-45dc49a5a223"
      },
      "source": [
        "# Some visualization\n",
        "sns.stripplot(x='Age', y='Spending',data=df)"
      ],
      "execution_count": 31,
      "outputs": [
        {
          "output_type": "execute_result",
          "data": {
            "text/plain": [
              "<matplotlib.axes._subplots.AxesSubplot at 0x7f9f06fcb250>"
            ]
          },
          "metadata": {
            "tags": []
          },
          "execution_count": 31
        },
        {
          "output_type": "display_data",
          "data": {
            "image/png": "[encoded data removed]",
            "text/plain": [
              "<Figure size 432x288 with 1 Axes>"
            ]
          },
          "metadata": {
            "tags": [],
            "needs_background": "light"
          }
        }
      ]
    },
    {
      "cell_type": "markdown",
      "metadata": {
        "id": "YXiQFzzjTUd5"
      },
      "source": [
        "Datanya sangat tersebar dari beragam umur, tetapi spending paling banyak terlihat di kelompok remaja"
      ]
    },
    {
      "cell_type": "code",
      "metadata": {
        "colab": {
          "base_uri": "https://localhost:8080/",
          "height": 296
        },
        "id": "jLP82jk-MTtP",
        "outputId": "113f2157-06b7-47ad-8ea8-a4eb6aa9f809"
      },
      "source": [
        "#Visualization 2\n",
        "sns.stripplot(x='Sex', y='Spending', data=df)"
      ],
      "execution_count": 23,
      "outputs": [
        {
          "output_type": "execute_result",
          "data": {
            "text/plain": [
              "<matplotlib.axes._subplots.AxesSubplot at 0x7f9f079b1250>"
            ]
          },
          "metadata": {
            "tags": []
          },
          "execution_count": 23
        },
        {
          "output_type": "display_data",
          "data": {
            "image/png": "[encoded data removed]",
            "text/plain": [
              "<Figure size 432x288 with 1 Axes>"
            ]
          },
          "metadata": {
            "tags": [],
            "needs_background": "light"
          }
        }
      ]
    },
    {
      "cell_type": "markdown",
      "metadata": {
        "id": "1QcIznoLTvAo"
      },
      "source": [
        "Tidak bisa juga menentukan apakah perempuan lebih banyak belanja daripada laki-laki karena hampir sama banyak"
      ]
    },
    {
      "cell_type": "code",
      "metadata": {
        "colab": {
          "base_uri": "https://localhost:8080/",
          "height": 296
        },
        "id": "t7fiTk2US84X",
        "outputId": "ed4e9f1d-a8c1-4cd3-b1dc-75a0ce15f5e7"
      },
      "source": [
        "#Visualization - 3\n",
        "sns.boxplot( x= 'Sex', y='Spending', data = df )"
      ],
      "execution_count": 33,
      "outputs": [
        {
          "output_type": "execute_result",
          "data": {
            "text/plain": [
              "<matplotlib.axes._subplots.AxesSubplot at 0x7f9f07039510>"
            ]
          },
          "metadata": {
            "tags": []
          },
          "execution_count": 33
        },
        {
          "output_type": "display_data",
          "data": {
            "image/png": "[encoded data removed]",
            "text/plain": [
              "<Figure size 432x288 with 1 Axes>"
            ]
          },
          "metadata": {
            "tags": [],
            "needs_background": "light"
          }
        }
      ]
    },
    {
      "cell_type": "markdown",
      "metadata": {
        "id": "_s3ezDGGT_5Z"
      },
      "source": [
        "Melalui boxplot dapat dilihat bahwa laki-laki melakukan transaksi lebih banyak daripada perempuan, namun lebih murah"
      ]
    },
    {
      "cell_type": "code",
      "metadata": {
        "colab": {
          "base_uri": "https://localhost:8080/",
          "height": 337
        },
        "id": "4UC4EsDU4xCX",
        "outputId": "f860a373-4e93-4e4d-bf93-16466daa760a"
      },
      "source": [
        "# check outlier using boxplot\n",
        "df.boxplot(column=numeric_column,fontsize=10,rot=0,grid=False,figsize=(5,5),vert=False)"
      ],
      "execution_count": 34,
      "outputs": [
        {
          "output_type": "execute_result",
          "data": {
            "text/plain": [
              "<matplotlib.axes._subplots.AxesSubplot at 0x7f9f06e1b8d0>"
            ]
          },
          "metadata": {
            "tags": []
          },
          "execution_count": 34
        },
        {
          "output_type": "display_data",
          "data": {
            "image/png": "[encoded data removed]",
            "text/plain": [
              "<Figure size 360x360 with 1 Axes>"
            ]
          },
          "metadata": {
            "tags": [],
            "needs_background": "light"
          }
        }
      ]
    },
    {
      "cell_type": "code",
      "metadata": {
        "colab": {
          "base_uri": "https://localhost:8080/",
          "height": 350
        },
        "id": "Xr97Vmk8OI_Y",
        "outputId": "ff63b04a-74e5-48b3-d630-3913b0e54b79"
      },
      "source": [
        "sns.scatterplot(df['Income'],df['Spending'],hue=df['Sex'])"
      ],
      "execution_count": null,
      "outputs": [
        {
          "output_type": "stream",
          "text": [
            "/usr/local/lib/python3.7/dist-packages/seaborn/_decorators.py:43: FutureWarning: Pass the following variables as keyword args: x, y. From version 0.12, the only valid positional argument will be `data`, and passing other arguments without an explicit keyword will result in an error or misinterpretation.\n",
            "  FutureWarning\n"
          ],
          "name": "stderr"
        },
        {
          "output_type": "execute_result",
          "data": {
            "text/plain": [
              "<matplotlib.axes._subplots.AxesSubplot at 0x7fe22f03fe50>"
            ]
          },
          "metadata": {
            "tags": []
          },
          "execution_count": 215
        },
        {
          "output_type": "display_data",
          "data": {
            "image/png": "[encoded data removed]",
            "text/plain": [
              "<Figure size 432x288 with 1 Axes>"
            ]
          },
          "metadata": {
            "tags": [],
            "needs_background": "light"
          }
        }
      ]
    },
    {
      "cell_type": "markdown",
      "metadata": {
        "id": "i4YdlJf5VOCl"
      },
      "source": [
        "Melalui scatterplot, datanya juga tersebar antara income dan spending laki-laki maupun perempuan"
      ]
    },
    {
      "cell_type": "code",
      "metadata": {
        "colab": {
          "base_uri": "https://localhost:8080/"
        },
        "id": "9t5xYaSI4xCZ",
        "outputId": "a4dbca73-cfee-4d9f-f3df-06deb0c7188d"
      },
      "source": [
        "# get IQR for each numeric column\n",
        "Q1 = df[numeric_column].quantile(0.25)\n",
        "Q3 = df[numeric_column].quantile(0.75)\n",
        "IQR = Q3 - Q1\n",
        "boxplot_min = Q1 - 1.5 * IQR\n",
        "boxplot_max = Q3 + 1.5 * IQR\n",
        "print('Q1:\\n',Q1)\n",
        "print('\\nQ3:\\n',Q3)\n",
        "print('\\nIQR:\\n',IQR)\n",
        "print('\\nMin:\\n',boxplot_min)\n",
        "print('\\nMax:\\n',boxplot_max)"
      ],
      "execution_count": 35,
      "outputs": [
        {
          "output_type": "stream",
          "text": [
            "Q1:\n",
            " Age         28.75\n",
            "Income      41.50\n",
            "Spending    34.75\n",
            "Name: 0.25, dtype: float64\n",
            "\n",
            "Q3:\n",
            " Age         49.0\n",
            "Income      78.0\n",
            "Spending    73.0\n",
            "Name: 0.75, dtype: float64\n",
            "\n",
            "IQR:\n",
            " Age         20.25\n",
            "Income      36.50\n",
            "Spending    38.25\n",
            "dtype: float64\n",
            "\n",
            "Min:\n",
            " Age         -1.625\n",
            "Income     -13.250\n",
            "Spending   -22.625\n",
            "dtype: float64\n",
            "\n",
            "Max:\n",
            " Age          79.375\n",
            "Income      132.750\n",
            "Spending    130.375\n",
            "dtype: float64\n"
          ],
          "name": "stdout"
        }
      ]
    },
    {
      "cell_type": "code",
      "metadata": {
        "id": "K4cOCmVc4xCZ"
      },
      "source": [
        "# remove outlier\n",
        "df = df.copy()\n",
        "for x in numeric_column:\n",
        "  filter_min = df[x]<boxplot_min[x]\n",
        "  filter_max = df[x]>boxplot_max[x]\n",
        "  df = df[~(\n",
        "    filter_min|filter_max\n",
        "    )]"
      ],
      "execution_count": 36,
      "outputs": []
    },
    {
      "cell_type": "code",
      "metadata": {
        "colab": {
          "base_uri": "https://localhost:8080/"
        },
        "id": "d_CPX6LC4xCZ",
        "outputId": "71ec4e78-9372-48f6-e3df-12082b0acbc1"
      },
      "source": [
        "df.shape"
      ],
      "execution_count": 37,
      "outputs": [
        {
          "output_type": "execute_result",
          "data": {
            "text/plain": [
              "(198, 5)"
            ]
          },
          "metadata": {
            "tags": []
          },
          "execution_count": 37
        }
      ]
    },
    {
      "cell_type": "markdown",
      "metadata": {
        "id": "mk6KS6wCUOpx"
      },
      "source": [
        "Terdapat 2 data outlier"
      ]
    },
    {
      "cell_type": "code",
      "metadata": {
        "colab": {
          "base_uri": "https://localhost:8080/",
          "height": 295
        },
        "id": "tybD7qYmGHhS",
        "outputId": "612d8ac4-55dc-45ae-ff0a-069887f764f7"
      },
      "source": [
        "# check simple statistic of the numeric value\n",
        "df[numeric_column].describe()"
      ],
      "execution_count": 38,
      "outputs": [
        {
          "output_type": "execute_result",
          "data": {
            "text/html": [
              "<div>\n",
              "<style scoped>\n",
              "    .dataframe tbody tr th:only-of-type {\n",
              "        vertical-align: middle;\n",
              "    }\n",
              "\n",
              "    .dataframe tbody tr th {\n",
              "        vertical-align: top;\n",
              "    }\n",
              "\n",
              "    .dataframe thead th {\n",
              "        text-align: right;\n",
              "    }\n",
              "</style>\n",
              "<table border=\"1\" class=\"dataframe\">\n",
              "  <thead>\n",
              "    <tr style=\"text-align: right;\">\n",
              "      <th></th>\n",
              "      <th>Age</th>\n",
              "      <th>Income</th>\n",
              "      <th>Spending</th>\n",
              "    </tr>\n",
              "  </thead>\n",
              "  <tbody>\n",
              "    <tr>\n",
              "      <th>count</th>\n",
              "      <td>198.000000</td>\n",
              "      <td>198.000000</td>\n",
              "      <td>198.000000</td>\n",
              "    </tr>\n",
              "    <tr>\n",
              "      <th>mean</th>\n",
              "      <td>38.929293</td>\n",
              "      <td>59.787879</td>\n",
              "      <td>50.196970</td>\n",
              "    </tr>\n",
              "    <tr>\n",
              "      <th>std</th>\n",
              "      <td>14.016852</td>\n",
              "      <td>25.237259</td>\n",
              "      <td>25.746846</td>\n",
              "    </tr>\n",
              "    <tr>\n",
              "      <th>min</th>\n",
              "      <td>18.000000</td>\n",
              "      <td>15.000000</td>\n",
              "      <td>1.000000</td>\n",
              "    </tr>\n",
              "    <tr>\n",
              "      <th>25%</th>\n",
              "      <td>28.250000</td>\n",
              "      <td>40.500000</td>\n",
              "      <td>35.000000</td>\n",
              "    </tr>\n",
              "    <tr>\n",
              "      <th>50%</th>\n",
              "      <td>36.000000</td>\n",
              "      <td>61.000000</td>\n",
              "      <td>50.000000</td>\n",
              "    </tr>\n",
              "    <tr>\n",
              "      <th>75%</th>\n",
              "      <td>49.000000</td>\n",
              "      <td>77.750000</td>\n",
              "      <td>72.750000</td>\n",
              "    </tr>\n",
              "    <tr>\n",
              "      <th>max</th>\n",
              "      <td>70.000000</td>\n",
              "      <td>126.000000</td>\n",
              "      <td>99.000000</td>\n",
              "    </tr>\n",
              "  </tbody>\n",
              "</table>\n",
              "</div>"
            ],
            "text/plain": [
              "              Age      Income    Spending\n",
              "count  198.000000  198.000000  198.000000\n",
              "mean    38.929293   59.787879   50.196970\n",
              "std     14.016852   25.237259   25.746846\n",
              "min     18.000000   15.000000    1.000000\n",
              "25%     28.250000   40.500000   35.000000\n",
              "50%     36.000000   61.000000   50.000000\n",
              "75%     49.000000   77.750000   72.750000\n",
              "max     70.000000  126.000000   99.000000"
            ]
          },
          "metadata": {
            "tags": []
          },
          "execution_count": 38
        }
      ]
    },
    {
      "cell_type": "markdown",
      "metadata": {
        "id": "1GoDbOvVUYGi"
      },
      "source": [
        "# **Add new column**"
      ]
    },
    {
      "cell_type": "code",
      "metadata": {
        "id": "YcYI5dpq4xCa",
        "colab": {
          "base_uri": "https://localhost:8080/",
          "height": 417
        },
        "outputId": "0a8ff1b2-156a-47d1-ceb0-dad243538668"
      },
      "source": [
        "# add new column from list\n",
        "potential = [0, 0, 0, 0, 0, 0, 0, 0, 0, 0, 0, 0, 0, 0, 0, 0, 0, 0, 0, 0,\n",
        "             0, 0, 0, 0, 0, 0, 0, 0, 0, 0, 0, 0, 0, 0, 0, 0, 0, 0, 0, 0,\n",
        "             0, 0, 0, 0, 0, 0, 0, 0, 0, 0, 0, 0, 0, 0, 0, 0, 0, 0, 0, 0,\n",
        "             0, 0, 0, 0, 0, 0, 0, 0, 0, 0, 0, 0, 0, 0, 0, 0, 0, 0, 0, 0,\n",
        "             0, 0, 0, 0, 0, 0, 0, 0, 0, 0, 0, 0, 0, 0, 0, 0, 0, 0, 0, 0,\n",
        "             0, 0, 0, 0, 0, 0, 0, 0, 0, 0, 0, 0, 0, 0, 0, 0, 0, 0, 0, 0,\n",
        "             0, 0, 0, 0, 0, 0, 0, 0, 0, 0, 0, 0, 0, 0, 0, 0, 0, 0, 0, 0,\n",
        "             0, 0, 0, 0, 0, 0, 0, 0, 0, 0, 0, 0, 0, 0, 0, 0, 0, 0, 0, 0,\n",
        "             0, 0, 0, 0, 0, 0, 0, 0, 0, 0, 0, 0, 0, 0, 0, 0, 0, 0, 0, 0,\n",
        "             0, 0, 0, 0, 0, 0, 0, 0, 0, 0, 0, 0, 0, 0, 0, 0, 0, 0]\n",
        "df['is_potential'] = potential\n",
        "df"
      ],
      "execution_count": 39,
      "outputs": [
        {
          "output_type": "execute_result",
          "data": {
            "text/html": [
              "<div>\n",
              "<style scoped>\n",
              "    .dataframe tbody tr th:only-of-type {\n",
              "        vertical-align: middle;\n",
              "    }\n",
              "\n",
              "    .dataframe tbody tr th {\n",
              "        vertical-align: top;\n",
              "    }\n",
              "\n",
              "    .dataframe thead th {\n",
              "        text-align: right;\n",
              "    }\n",
              "</style>\n",
              "<table border=\"1\" class=\"dataframe\">\n",
              "  <thead>\n",
              "    <tr style=\"text-align: right;\">\n",
              "      <th></th>\n",
              "      <th>CustomerID</th>\n",
              "      <th>Sex</th>\n",
              "      <th>Age</th>\n",
              "      <th>Income</th>\n",
              "      <th>Spending</th>\n",
              "      <th>is_potential</th>\n",
              "    </tr>\n",
              "  </thead>\n",
              "  <tbody>\n",
              "    <tr>\n",
              "      <th>0</th>\n",
              "      <td>1</td>\n",
              "      <td>Male</td>\n",
              "      <td>19</td>\n",
              "      <td>15</td>\n",
              "      <td>39</td>\n",
              "      <td>0</td>\n",
              "    </tr>\n",
              "    <tr>\n",
              "      <th>1</th>\n",
              "      <td>2</td>\n",
              "      <td>Male</td>\n",
              "      <td>21</td>\n",
              "      <td>15</td>\n",
              "      <td>81</td>\n",
              "      <td>0</td>\n",
              "    </tr>\n",
              "    <tr>\n",
              "      <th>2</th>\n",
              "      <td>3</td>\n",
              "      <td>Female</td>\n",
              "      <td>20</td>\n",
              "      <td>16</td>\n",
              "      <td>6</td>\n",
              "      <td>0</td>\n",
              "    </tr>\n",
              "    <tr>\n",
              "      <th>3</th>\n",
              "      <td>4</td>\n",
              "      <td>Female</td>\n",
              "      <td>23</td>\n",
              "      <td>16</td>\n",
              "      <td>77</td>\n",
              "      <td>0</td>\n",
              "    </tr>\n",
              "    <tr>\n",
              "      <th>4</th>\n",
              "      <td>5</td>\n",
              "      <td>Female</td>\n",
              "      <td>31</td>\n",
              "      <td>17</td>\n",
              "      <td>40</td>\n",
              "      <td>0</td>\n",
              "    </tr>\n",
              "    <tr>\n",
              "      <th>...</th>\n",
              "      <td>...</td>\n",
              "      <td>...</td>\n",
              "      <td>...</td>\n",
              "      <td>...</td>\n",
              "      <td>...</td>\n",
              "      <td>...</td>\n",
              "    </tr>\n",
              "    <tr>\n",
              "      <th>193</th>\n",
              "      <td>194</td>\n",
              "      <td>Female</td>\n",
              "      <td>38</td>\n",
              "      <td>113</td>\n",
              "      <td>91</td>\n",
              "      <td>0</td>\n",
              "    </tr>\n",
              "    <tr>\n",
              "      <th>194</th>\n",
              "      <td>195</td>\n",
              "      <td>Female</td>\n",
              "      <td>47</td>\n",
              "      <td>120</td>\n",
              "      <td>16</td>\n",
              "      <td>0</td>\n",
              "    </tr>\n",
              "    <tr>\n",
              "      <th>195</th>\n",
              "      <td>196</td>\n",
              "      <td>Female</td>\n",
              "      <td>35</td>\n",
              "      <td>120</td>\n",
              "      <td>79</td>\n",
              "      <td>0</td>\n",
              "    </tr>\n",
              "    <tr>\n",
              "      <th>196</th>\n",
              "      <td>197</td>\n",
              "      <td>Female</td>\n",
              "      <td>45</td>\n",
              "      <td>126</td>\n",
              "      <td>28</td>\n",
              "      <td>0</td>\n",
              "    </tr>\n",
              "    <tr>\n",
              "      <th>197</th>\n",
              "      <td>198</td>\n",
              "      <td>Male</td>\n",
              "      <td>32</td>\n",
              "      <td>126</td>\n",
              "      <td>74</td>\n",
              "      <td>0</td>\n",
              "    </tr>\n",
              "  </tbody>\n",
              "</table>\n",
              "<p>198 rows × 6 columns</p>\n",
              "</div>"
            ],
            "text/plain": [
              "     CustomerID     Sex  Age  Income  Spending  is_potential\n",
              "0             1    Male   19      15        39             0\n",
              "1             2    Male   21      15        81             0\n",
              "2             3  Female   20      16         6             0\n",
              "3             4  Female   23      16        77             0\n",
              "4             5  Female   31      17        40             0\n",
              "..          ...     ...  ...     ...       ...           ...\n",
              "193         194  Female   38     113        91             0\n",
              "194         195  Female   47     120        16             0\n",
              "195         196  Female   35     120        79             0\n",
              "196         197  Female   45     126        28             0\n",
              "197         198    Male   32     126        74             0\n",
              "\n",
              "[198 rows x 6 columns]"
            ]
          },
          "metadata": {
            "tags": []
          },
          "execution_count": 39
        }
      ]
    },
    {
      "cell_type": "code",
      "metadata": {
        "id": "Cc0BbtXu8_7s"
      },
      "source": [
        "final_feature_column = ['Income', 'Spending']\n",
        "target_column = ['is_potential']"
      ],
      "execution_count": 40,
      "outputs": []
    },
    {
      "cell_type": "code",
      "metadata": {
        "id": "REYOQsm94xCb"
      },
      "source": [
        "# prepare the data to numpy array\n",
        "final_feature_array = df[final_feature_column].to_numpy()\n",
        "target_array = df[target_column].to_numpy()"
      ],
      "execution_count": 41,
      "outputs": []
    },
    {
      "cell_type": "code",
      "metadata": {
        "colab": {
          "base_uri": "https://localhost:8080/"
        },
        "id": "o-7uxvdc4xCb",
        "outputId": "61e06c73-f7c8-4cf0-b76c-45d7c2ad6e64"
      },
      "source": [
        "print('shape of final feature:',final_feature_array.shape)\n",
        "print('shape of target:',target_array.shape)"
      ],
      "execution_count": 42,
      "outputs": [
        {
          "output_type": "stream",
          "text": [
            "shape of final feature: (198, 2)\n",
            "shape of target: (198, 1)\n"
          ],
          "name": "stdout"
        }
      ]
    },
    {
      "cell_type": "markdown",
      "metadata": {
        "id": "MQsmAw3559B9"
      },
      "source": [
        "# **PCA**"
      ]
    },
    {
      "cell_type": "code",
      "metadata": {
        "id": "n8FGd9gy9UX_"
      },
      "source": [
        "# load the algorithm\n",
        "pca_model = decomposition.PCA(n_components=2)\n",
        "#n component direduce mnjadi x kolom, kalo disini --arbitrary-- decidenya test jadi 2 kolom"
      ],
      "execution_count": 43,
      "outputs": []
    },
    {
      "cell_type": "code",
      "metadata": {
        "id": "Qwm3QChW9dgM"
      },
      "source": [
        "# train the data and transform\n",
        "pca_feature_array = pca_model.fit_transform(final_feature_array)"
      ],
      "execution_count": 44,
      "outputs": []
    },
    {
      "cell_type": "code",
      "metadata": {
        "id": "g9zl8r5wA_kd",
        "colab": {
          "base_uri": "https://localhost:8080/"
        },
        "outputId": "df9a84e6-adab-4101-a4d8-4c9bd3c4abfc"
      },
      "source": [
        "# check the shape of the result\n",
        "pca_feature_array.shape"
      ],
      "execution_count": null,
      "outputs": [
        {
          "output_type": "execute_result",
          "data": {
            "text/plain": [
              "(198, 2)"
            ]
          },
          "metadata": {
            "tags": []
          },
          "execution_count": 209
        }
      ]
    },
    {
      "cell_type": "code",
      "metadata": {
        "id": "2mOX1Qv9-Dph"
      },
      "source": [
        "# add new name for the new column\n",
        "pca_column = ['pca column 1','pca column 2']"
      ],
      "execution_count": 58,
      "outputs": []
    },
    {
      "cell_type": "code",
      "metadata": {
        "id": "XAFz_EgV9pIs"
      },
      "source": [
        "# transform to dataframe\n",
        "pca_feature_df = pd.DataFrame(pca_feature_array,columns=pca_column)\n",
        "pca_feature_df['is_potential'] = target_array"
      ],
      "execution_count": null,
      "outputs": []
    },
    {
      "cell_type": "code",
      "metadata": {
        "id": "0oipFKce-MEf",
        "colab": {
          "base_uri": "https://localhost:8080/",
          "height": 203
        },
        "outputId": "089585fc-ce77-4f70-f54d-be192e121e6b"
      },
      "source": [
        "# check the resulted data\n",
        "pca_feature_df.head(5)"
      ],
      "execution_count": null,
      "outputs": [
        {
          "output_type": "execute_result",
          "data": {
            "text/html": [
              "<div>\n",
              "<style scoped>\n",
              "    .dataframe tbody tr th:only-of-type {\n",
              "        vertical-align: middle;\n",
              "    }\n",
              "\n",
              "    .dataframe tbody tr th {\n",
              "        vertical-align: top;\n",
              "    }\n",
              "\n",
              "    .dataframe thead th {\n",
              "        text-align: right;\n",
              "    }\n",
              "</style>\n",
              "<table border=\"1\" class=\"dataframe\">\n",
              "  <thead>\n",
              "    <tr style=\"text-align: right;\">\n",
              "      <th></th>\n",
              "      <th>pca column 1</th>\n",
              "      <th>pca column 2</th>\n",
              "      <th>is_potential</th>\n",
              "    </tr>\n",
              "  </thead>\n",
              "  <tbody>\n",
              "    <tr>\n",
              "      <th>0</th>\n",
              "      <td>21.256142</td>\n",
              "      <td>-40.981735</td>\n",
              "      <td>0</td>\n",
              "    </tr>\n",
              "    <tr>\n",
              "      <th>1</th>\n",
              "      <td>-19.604123</td>\n",
              "      <td>-50.699696</td>\n",
              "      <td>0</td>\n",
              "    </tr>\n",
              "    <tr>\n",
              "      <th>2</th>\n",
              "      <td>53.129256</td>\n",
              "      <td>-32.373332</td>\n",
              "      <td>0</td>\n",
              "    </tr>\n",
              "    <tr>\n",
              "      <th>3</th>\n",
              "      <td>-15.944049</td>\n",
              "      <td>-48.801312</td>\n",
              "      <td>0</td>\n",
              "    </tr>\n",
              "    <tr>\n",
              "      <th>4</th>\n",
              "      <td>19.820519</td>\n",
              "      <td>-39.267389</td>\n",
              "      <td>0</td>\n",
              "    </tr>\n",
              "  </tbody>\n",
              "</table>\n",
              "</div>"
            ],
            "text/plain": [
              "   pca column 1  pca column 2  is_potential\n",
              "0     21.256142    -40.981735             0\n",
              "1    -19.604123    -50.699696             0\n",
              "2     53.129256    -32.373332             0\n",
              "3    -15.944049    -48.801312             0\n",
              "4     19.820519    -39.267389             0"
            ]
          },
          "metadata": {
            "tags": []
          },
          "execution_count": 212
        }
      ]
    },
    {
      "cell_type": "code",
      "metadata": {
        "id": "hSapQc01-SsY",
        "colab": {
          "base_uri": "https://localhost:8080/"
        },
        "outputId": "0a0c5ec3-e421-4b0c-fe32-ff9341ebd29c"
      },
      "source": [
        "# check the explained variance\n",
        "print('explained variance:',pca_model.explained_variance_ratio_)"
      ],
      "execution_count": null,
      "outputs": [
        {
          "output_type": "stream",
          "text": [
            "explained variance: [0.51119244 0.48880756]\n"
          ],
          "name": "stdout"
        }
      ]
    },
    {
      "cell_type": "code",
      "metadata": {
        "id": "YiE01uVjG_P6",
        "colab": {
          "base_uri": "https://localhost:8080/",
          "height": 275
        },
        "outputId": "ac97da11-f31d-4818-b226-662a54f93c4c"
      },
      "source": [
        "# show in 2D plot\n",
        "pca_feature_df.plot.scatter(x='pca column 1',y='pca column 2',c='is_potential',colormap='viridis')"
      ],
      "execution_count": null,
      "outputs": [
        {
          "output_type": "execute_result",
          "data": {
            "text/plain": [
              "<matplotlib.axes._subplots.AxesSubplot at 0x7fe237fc0310>"
            ]
          },
          "metadata": {
            "tags": []
          },
          "execution_count": 214
        },
        {
          "output_type": "display_data",
          "data": {
            "image/png": "[encoded data removed]",
            "text/plain": [
              "<Figure size 432x288 with 2 Axes>"
            ]
          },
          "metadata": {
            "tags": [],
            "needs_background": "light"
          }
        }
      ]
    },
    {
      "cell_type": "markdown",
      "metadata": {
        "id": "wGysrFo8Vrxe"
      },
      "source": [
        "Ternyata hampir semuanya potensial menjadi pelanggan"
      ]
    },
    {
      "cell_type": "code",
      "metadata": {
        "id": "ZpCDAGhoLghP",
        "colab": {
          "base_uri": "https://localhost:8080/"
        },
        "outputId": "a11e2b2c-ecd7-4e38-fcbc-59041c8d0421"
      },
      "source": [
        "# check explained variance for each number of component\n",
        "for x in range(1,len(final_feature_column)+1):\n",
        "  pca_model_x = decomposition.PCA(n_components=x)\n",
        "  pca_feature_array_x = pca_model_x.fit_transform(final_feature_array)\n",
        "  print('explained variance for {} components: {}'.format(x,np.sum(pca_model_x.explained_variance_ratio_)))\n",
        "\n",
        "  #biasanya pake/pilih dari 5 komponen pertama untuk mendapatkan number of components yg tepat"
      ],
      "execution_count": null,
      "outputs": [
        {
          "output_type": "stream",
          "text": [
            "explained variance for 1 components: 0.5111924353864143\n",
            "explained variance for 2 components: 1.0\n"
          ],
          "name": "stdout"
        }
      ]
    },
    {
      "cell_type": "markdown",
      "metadata": {
        "id": "67pAQ4JjOkoP"
      },
      "source": [
        "# **Clustering**"
      ]
    },
    {
      "cell_type": "code",
      "metadata": {
        "id": "Wc17jPyFOkon"
      },
      "source": [
        "# load the algorithm\n",
        "cluster_model = cluster.KMeans(n_clusters=5)"
      ],
      "execution_count": 47,
      "outputs": []
    },
    {
      "cell_type": "code",
      "metadata": {
        "id": "z3weSeV9Okoo"
      },
      "source": [
        "# train the data\n",
        "cluster_array = cluster_model.fit(final_feature_array)"
      ],
      "execution_count": 48,
      "outputs": []
    },
    {
      "cell_type": "code",
      "metadata": {
        "id": "Iso2rcPRP6Ou"
      },
      "source": [
        "# label result\n",
        "cluster_label = cluster_model.labels_"
      ],
      "execution_count": 49,
      "outputs": []
    },
    {
      "cell_type": "code",
      "metadata": {
        "id": "kNZxMflqQQvr",
        "colab": {
          "base_uri": "https://localhost:8080/"
        },
        "outputId": "507a4d11-b182-4542-f7b6-60067d94cb72"
      },
      "source": [
        "cluster_label"
      ],
      "execution_count": 50,
      "outputs": [
        {
          "output_type": "execute_result",
          "data": {
            "text/plain": [
              "array([3, 1, 3, 1, 3, 1, 3, 1, 3, 1, 3, 1, 3, 1, 3, 1, 3, 1, 3, 1, 3, 1,\n",
              "       3, 1, 3, 1, 3, 1, 3, 1, 3, 1, 3, 1, 3, 1, 3, 1, 3, 1, 3, 1, 3, 4,\n",
              "       3, 1, 4, 4, 4, 4, 4, 4, 4, 4, 4, 4, 4, 4, 4, 4, 4, 4, 4, 4, 4, 4,\n",
              "       4, 4, 4, 4, 4, 4, 4, 4, 4, 4, 4, 4, 4, 4, 4, 4, 4, 4, 4, 4, 4, 4,\n",
              "       4, 4, 4, 4, 4, 4, 4, 4, 4, 4, 4, 4, 4, 4, 4, 4, 4, 4, 4, 4, 4, 4,\n",
              "       4, 4, 4, 4, 4, 4, 4, 4, 4, 4, 4, 4, 4, 0, 2, 0, 4, 0, 2, 0, 2, 0,\n",
              "       2, 0, 2, 0, 2, 0, 2, 0, 2, 0, 4, 0, 2, 0, 2, 0, 2, 0, 2, 0, 2, 0,\n",
              "       2, 0, 2, 0, 2, 0, 2, 0, 2, 0, 2, 0, 2, 0, 2, 0, 2, 0, 2, 0, 2, 0,\n",
              "       2, 0, 2, 0, 2, 0, 2, 0, 2, 0, 2, 0, 2, 0, 2, 0, 2, 0, 2, 0, 2, 0],\n",
              "      dtype=int32)"
            ]
          },
          "metadata": {
            "tags": []
          },
          "execution_count": 50
        }
      ]
    },
    {
      "cell_type": "code",
      "metadata": {
        "id": "6PHhjHtZOkoz"
      },
      "source": [
        "# add label to final dataframe\n",
        "df['cluster'] = cluster_label"
      ],
      "execution_count": 51,
      "outputs": []
    },
    {
      "cell_type": "code",
      "metadata": {
        "id": "W5Rf2RGdOkoz",
        "colab": {
          "base_uri": "https://localhost:8080/",
          "height": 203
        },
        "outputId": "8f9c522e-a908-4dd0-f076-5c8fdb9e2a06"
      },
      "source": [
        "# check the resulted data\n",
        "df.head(5)"
      ],
      "execution_count": 52,
      "outputs": [
        {
          "output_type": "execute_result",
          "data": {
            "text/html": [
              "<div>\n",
              "<style scoped>\n",
              "    .dataframe tbody tr th:only-of-type {\n",
              "        vertical-align: middle;\n",
              "    }\n",
              "\n",
              "    .dataframe tbody tr th {\n",
              "        vertical-align: top;\n",
              "    }\n",
              "\n",
              "    .dataframe thead th {\n",
              "        text-align: right;\n",
              "    }\n",
              "</style>\n",
              "<table border=\"1\" class=\"dataframe\">\n",
              "  <thead>\n",
              "    <tr style=\"text-align: right;\">\n",
              "      <th></th>\n",
              "      <th>CustomerID</th>\n",
              "      <th>Sex</th>\n",
              "      <th>Age</th>\n",
              "      <th>Income</th>\n",
              "      <th>Spending</th>\n",
              "      <th>is_potential</th>\n",
              "      <th>cluster</th>\n",
              "    </tr>\n",
              "  </thead>\n",
              "  <tbody>\n",
              "    <tr>\n",
              "      <th>0</th>\n",
              "      <td>1</td>\n",
              "      <td>Male</td>\n",
              "      <td>19</td>\n",
              "      <td>15</td>\n",
              "      <td>39</td>\n",
              "      <td>0</td>\n",
              "      <td>3</td>\n",
              "    </tr>\n",
              "    <tr>\n",
              "      <th>1</th>\n",
              "      <td>2</td>\n",
              "      <td>Male</td>\n",
              "      <td>21</td>\n",
              "      <td>15</td>\n",
              "      <td>81</td>\n",
              "      <td>0</td>\n",
              "      <td>1</td>\n",
              "    </tr>\n",
              "    <tr>\n",
              "      <th>2</th>\n",
              "      <td>3</td>\n",
              "      <td>Female</td>\n",
              "      <td>20</td>\n",
              "      <td>16</td>\n",
              "      <td>6</td>\n",
              "      <td>0</td>\n",
              "      <td>3</td>\n",
              "    </tr>\n",
              "    <tr>\n",
              "      <th>3</th>\n",
              "      <td>4</td>\n",
              "      <td>Female</td>\n",
              "      <td>23</td>\n",
              "      <td>16</td>\n",
              "      <td>77</td>\n",
              "      <td>0</td>\n",
              "      <td>1</td>\n",
              "    </tr>\n",
              "    <tr>\n",
              "      <th>4</th>\n",
              "      <td>5</td>\n",
              "      <td>Female</td>\n",
              "      <td>31</td>\n",
              "      <td>17</td>\n",
              "      <td>40</td>\n",
              "      <td>0</td>\n",
              "      <td>3</td>\n",
              "    </tr>\n",
              "  </tbody>\n",
              "</table>\n",
              "</div>"
            ],
            "text/plain": [
              "   CustomerID     Sex  Age  Income  Spending  is_potential  cluster\n",
              "0           1    Male   19      15        39             0        3\n",
              "1           2    Male   21      15        81             0        1\n",
              "2           3  Female   20      16         6             0        3\n",
              "3           4  Female   23      16        77             0        1\n",
              "4           5  Female   31      17        40             0        3"
            ]
          },
          "metadata": {
            "tags": []
          },
          "execution_count": 52
        }
      ]
    },
    {
      "cell_type": "markdown",
      "metadata": {
        "id": "bpQNNusmD16E"
      },
      "source": [
        "Insight: Algoritma itu cuman tool seperti mobil dari A ke B. Tapi bisa untuk berbagai macam cara, misalnya clustering dulu karena bisa jadi klasifikasi kita tidak cocok.\n"
      ]
    },
    {
      "cell_type": "code",
      "metadata": {
        "id": "y9GGbjIPQx_t",
        "colab": {
          "base_uri": "https://localhost:8080/",
          "height": 295
        },
        "outputId": "1d90c45c-836d-4826-d559-47ec200ac8b6"
      },
      "source": [
        "# check using elbow method to define the best cluster\n",
        "skplt.cluster.plot_elbow_curve(cluster_model, final_feature_array, cluster_ranges=range(1, 30))\n",
        "plt.show()\n",
        "\n",
        "#Di plot ini melandai saat cluster 5"
      ],
      "execution_count": 60,
      "outputs": [
        {
          "output_type": "display_data",
          "data": {
            "image/png": "[encoded data removed]",
            "text/plain": [
              "<Figure size 432x288 with 2 Axes>"
            ]
          },
          "metadata": {
            "tags": [],
            "needs_background": "light"
          }
        }
      ]
    },
    {
      "cell_type": "code",
      "metadata": {
        "id": "QlWZJWpMQx2e",
        "colab": {
          "base_uri": "https://localhost:8080/",
          "height": 275
        },
        "outputId": "2c498e71-c9aa-4942-d220-ea68bfb701ae"
      },
      "source": [
        "# plot using PCA using the best cluster\n",
        "best_cluster_model = cluster.KMeans(n_clusters=5)\n",
        "best_cluster_array = best_cluster_model.fit(final_feature_array)\n",
        "best_cluster_label = best_cluster_model.labels_\n",
        "pca_feature_df = pd.DataFrame(pca_feature_array,columns=pca_column)\n",
        "pca_feature_df['cluster'] = best_cluster_label\n",
        "pca_feature_df.plot.scatter(x='pca column 1',y='pca column 2',c='cluster',colormap='viridis')"
      ],
      "execution_count": 59,
      "outputs": [
        {
          "output_type": "execute_result",
          "data": {
            "text/plain": [
              "<matplotlib.axes._subplots.AxesSubplot at 0x7f9efd6c9c10>"
            ]
          },
          "metadata": {
            "tags": []
          },
          "execution_count": 59
        },
        {
          "output_type": "display_data",
          "data": {
            "image/png": "[encoded data removed]",
            "text/plain": [
              "<Figure size 432x288 with 2 Axes>"
            ]
          },
          "metadata": {
            "tags": [],
            "needs_background": "light"
          }
        }
      ]
    },
    {
      "cell_type": "code",
      "metadata": {
        "id": "FRPadzPDPCj1"
      },
      "source": [
        "#Apply K-Means algorithm on training dataset.\n",
        "\n",
        "kmeans=KMeans(n_clusters=5,init='k-means++',random_state=42)\n",
        "y_pred=kmeans.fit_predict(final_feature_array)"
      ],
      "execution_count": 56,
      "outputs": []
    },
    {
      "cell_type": "markdown",
      "metadata": {
        "id": "zotAtve7kFkD"
      },
      "source": [
        "# **JUMP HERE IF YOU DONT HAVE TIME**"
      ]
    },
    {
      "cell_type": "code",
      "metadata": {
        "colab": {
          "base_uri": "https://localhost:8080/",
          "height": 404
        },
        "id": "cHvXUWwtO8CB",
        "outputId": "d934b9f7-0393-4114-90af-503a4e08efe8"
      },
      "source": [
        "plt.figure(figsize=(12,6))\n",
        "plt.scatter(final_feature_array[y_pred == 0,0],final_feature_array[y_pred == 0,1],s=100, c='red',label='Impulsive')\n",
        "plt.scatter(final_feature_array[y_pred == 1,0],final_feature_array[y_pred == 1,1],s=100,c='grey',label='Seperlunya')\n",
        "plt.scatter(final_feature_array[y_pred == 2,0],final_feature_array[y_pred == 2,1],s=100,c='yellow',label='Sultan')\n",
        "plt.scatter(final_feature_array[y_pred == 3,0],final_feature_array[y_pred == 3,1],s=100,c='green',label='Hemat')\n",
        "plt.scatter(final_feature_array[y_pred == 4,0],final_feature_array[y_pred == 4,1],s=100,c='blue',label='Picky')\n",
        "plt.scatter(kmeans.cluster_centers_[:,0],kmeans.cluster_centers_[:,1],s=100,c='purple',label='Centroid')\n",
        "plt.title(\"K-Means Clustering\")\n",
        "plt.axvline(x=80, ymin=0, ymax=1,c='black', label='priorities')\n",
        "plt.axhline(y=70, xmin=0, xmax=1, c='black', label='priorities')\n",
        "plt.xlabel(\"Annual Income\")\n",
        "plt.ylabel(\"Spending\")\n",
        "plt.legend()\n",
        "plt.show()"
      ],
      "execution_count": 92,
      "outputs": [
        {
          "output_type": "display_data",
          "data": {
            "image/png": "[encoded data removed]",
            "text/plain": [
              "<Figure size 864x432 with 1 Axes>"
            ]
          },
          "metadata": {
            "tags": [],
            "needs_background": "light"
          }
        }
      ]
    },
    {
      "cell_type": "markdown",
      "metadata": {
        "id": "-bSelKZGj9uQ"
      },
      "source": [
        "# **Conclusion + Follow-up Action Recommendation**"
      ]
    },
    {
      "cell_type": "markdown",
      "metadata": {
        "id": "4ti1O5kWaKbF"
      },
      "source": [
        "Dapat dilihat bahwa terdapat lima kelompok customer.\n",
        "\n",
        "Grup 1 (Merah) merupakan customer dengan Spending besar namun Income kecil, yang selanjutnya kita sebut sebagai (**Customer impulsif**)\n",
        "\n",
        "- **Customer impulsif** dapat kita stimulasi dengan \n",
        "  1. Meningkatkan promosi disaat **event promosi bulanan atau impromptu/perayaan tertentu** seperti **5-5 sale, 6-6 sale, ulang tahun ecommerce**, karena cenderung tertarik melihat promo besar-besaran dan \n",
        "  2. Menawarkan **paket membership** sebagai apresiasi serta menjaga tingginya angka Spending\n",
        "\n",
        "\n",
        "\n",
        "Grup 2 (Abu-abu) merupakan customer dengan Spending sedang dan Income sedang,\n",
        "selanjutnya kita sebut sebagai (**Customer seperlunya**)\n",
        "\n",
        "- **Customer seperlunya** dapat kita stimulasi dengan \n",
        "  1. Menurunkan atau memberikan **diskon barang**, karena spending mereka sudah cukup besar dan menjaga agar tidak menurun, serta\n",
        "  2. Memberikan **voucher belanja** dengan minimum tertentu, tujuannya untuk menaikkan angka Spending\n",
        "\n",
        "Grup 3 (Kuning) merupakan customer dengan Spending besar dan Income besar,\n",
        "selanjutnya kita sebut sebagai (**Customer sultan**)\n",
        "\n",
        "- **Customer sultan** dapat kita stimulasi dengan \n",
        "  1. Menawarkan **paket Membership** bernama-nama mewah seperti Platinum, Gold dengan **hadiah-hadiah menarik (seperti voucher belanja atau Buy 1Get 1)**. Alasannya karena Spending mereka besar, Income juga besar dan kita ingin mempertahankan angka itu\n",
        "\n",
        "Grup 4 (Hijau) merupakan customer dengan Spending kecil dan Income kecil, \n",
        "selanjutnya kita sebut sebagai (**Customer hemat**)\n",
        "\n",
        "- **Customer hemat** dapat kita stimulasi dengan \n",
        "  1. Memberikan voucher yang didapatkan setelah melewati minimum belanja tertentu. Hal ini dilakukan agar mereka membeli lebih banyak barang atau Spending mereka naik\n",
        "  2. Meningkatkan promosi disaat **event promosi bulanan atau impromptu/perayaan tertentu** seperti **5-5 sale, 6-6 sale, ulang tahun ecommerce**, karena cenderung tertarik melihat promo besar-besaran dan \n",
        "\n",
        "\n",
        "Grup 5 (Biru) merupakan customer dengan Spending kecil namun Income besar,\n",
        "selanjutnya kita sebut sebagai (**Customer picky**)\n",
        "\n",
        "- **Customer picky** dapat kita stimulasi dengan \n",
        "  1. Memberikan diskon terhadap produk atau merek tertentu yang biasa mereka beli. Hal ini dikarenakan mereka sebelumnya sudah merasa nyaman dengan merek tersebut dan cenderung membeli lagi. Kita juga dapat \n",
        "  2. Menawarkan **paket membership** seperti Customer Sultan. Alasannya agar tertarik belanja dan menaikkan Spending, karena Income mereka besar"
      ]
    },
    {
      "cell_type": "code",
      "metadata": {
        "colab": {
          "base_uri": "https://localhost:8080/",
          "height": 203
        },
        "id": "3DV_SqsoXhtE",
        "outputId": "5470a1d5-b1c4-48be-8e01-a5d7e265fa41"
      },
      "source": [
        "df.head(5)"
      ],
      "execution_count": 62,
      "outputs": [
        {
          "output_type": "execute_result",
          "data": {
            "text/html": [
              "<div>\n",
              "<style scoped>\n",
              "    .dataframe tbody tr th:only-of-type {\n",
              "        vertical-align: middle;\n",
              "    }\n",
              "\n",
              "    .dataframe tbody tr th {\n",
              "        vertical-align: top;\n",
              "    }\n",
              "\n",
              "    .dataframe thead th {\n",
              "        text-align: right;\n",
              "    }\n",
              "</style>\n",
              "<table border=\"1\" class=\"dataframe\">\n",
              "  <thead>\n",
              "    <tr style=\"text-align: right;\">\n",
              "      <th></th>\n",
              "      <th>CustomerID</th>\n",
              "      <th>Sex</th>\n",
              "      <th>Age</th>\n",
              "      <th>Income</th>\n",
              "      <th>Spending</th>\n",
              "      <th>is_potential</th>\n",
              "      <th>cluster</th>\n",
              "    </tr>\n",
              "  </thead>\n",
              "  <tbody>\n",
              "    <tr>\n",
              "      <th>0</th>\n",
              "      <td>1</td>\n",
              "      <td>Male</td>\n",
              "      <td>19</td>\n",
              "      <td>15</td>\n",
              "      <td>39</td>\n",
              "      <td>0</td>\n",
              "      <td>3</td>\n",
              "    </tr>\n",
              "    <tr>\n",
              "      <th>1</th>\n",
              "      <td>2</td>\n",
              "      <td>Male</td>\n",
              "      <td>21</td>\n",
              "      <td>15</td>\n",
              "      <td>81</td>\n",
              "      <td>0</td>\n",
              "      <td>1</td>\n",
              "    </tr>\n",
              "    <tr>\n",
              "      <th>2</th>\n",
              "      <td>3</td>\n",
              "      <td>Female</td>\n",
              "      <td>20</td>\n",
              "      <td>16</td>\n",
              "      <td>6</td>\n",
              "      <td>0</td>\n",
              "      <td>3</td>\n",
              "    </tr>\n",
              "    <tr>\n",
              "      <th>3</th>\n",
              "      <td>4</td>\n",
              "      <td>Female</td>\n",
              "      <td>23</td>\n",
              "      <td>16</td>\n",
              "      <td>77</td>\n",
              "      <td>0</td>\n",
              "      <td>1</td>\n",
              "    </tr>\n",
              "    <tr>\n",
              "      <th>4</th>\n",
              "      <td>5</td>\n",
              "      <td>Female</td>\n",
              "      <td>31</td>\n",
              "      <td>17</td>\n",
              "      <td>40</td>\n",
              "      <td>0</td>\n",
              "      <td>3</td>\n",
              "    </tr>\n",
              "  </tbody>\n",
              "</table>\n",
              "</div>"
            ],
            "text/plain": [
              "   CustomerID     Sex  Age  Income  Spending  is_potential  cluster\n",
              "0           1    Male   19      15        39             0        3\n",
              "1           2    Male   21      15        81             0        1\n",
              "2           3  Female   20      16         6             0        3\n",
              "3           4  Female   23      16        77             0        1\n",
              "4           5  Female   31      17        40             0        3"
            ]
          },
          "metadata": {
            "tags": []
          },
          "execution_count": 62
        }
      ]
    },
    {
      "cell_type": "markdown",
      "metadata": {
        "id": "DomXERmxZ_zt"
      },
      "source": [
        "Kita sudah mendapatkan 5 kelompok customer. Tinggal menentukan langkah yang tepat untuk customerID yang tepat"
      ]
    },
    {
      "cell_type": "markdown",
      "metadata": {
        "id": "Qpu9O2DakZhZ"
      },
      "source": [
        "# **Detailed Customer ID to follow up**"
      ]
    },
    {
      "cell_type": "markdown",
      "metadata": {
        "id": "VnjQRCW-kiF_"
      },
      "source": [
        "## Impulsive\n",
        "\n"
      ]
    },
    {
      "cell_type": "markdown",
      "metadata": {
        "id": "0ggZFeJwfzzn"
      },
      "source": [
        "Berikut merupakan data CustomerID untuk **Customer impulsif**, terdapat 22 data"
      ]
    },
    {
      "cell_type": "code",
      "metadata": {
        "colab": {
          "base_uri": "https://localhost:8080/",
          "height": 726
        },
        "id": "WGkbuSXsffb1",
        "outputId": "da4c4025-d0f4-4d26-c10e-8efd6a7fc05a"
      },
      "source": [
        "#filter data using value (pake isin)\n",
        "df[df['cluster'].isin(['1'])]"
      ],
      "execution_count": 74,
      "outputs": [
        {
          "output_type": "execute_result",
          "data": {
            "text/html": [
              "<div>\n",
              "<style scoped>\n",
              "    .dataframe tbody tr th:only-of-type {\n",
              "        vertical-align: middle;\n",
              "    }\n",
              "\n",
              "    .dataframe tbody tr th {\n",
              "        vertical-align: top;\n",
              "    }\n",
              "\n",
              "    .dataframe thead th {\n",
              "        text-align: right;\n",
              "    }\n",
              "</style>\n",
              "<table border=\"1\" class=\"dataframe\">\n",
              "  <thead>\n",
              "    <tr style=\"text-align: right;\">\n",
              "      <th></th>\n",
              "      <th>CustomerID</th>\n",
              "      <th>Sex</th>\n",
              "      <th>Age</th>\n",
              "      <th>Income</th>\n",
              "      <th>Spending</th>\n",
              "      <th>is_potential</th>\n",
              "      <th>cluster</th>\n",
              "    </tr>\n",
              "  </thead>\n",
              "  <tbody>\n",
              "    <tr>\n",
              "      <th>1</th>\n",
              "      <td>2</td>\n",
              "      <td>Male</td>\n",
              "      <td>21</td>\n",
              "      <td>15</td>\n",
              "      <td>81</td>\n",
              "      <td>0</td>\n",
              "      <td>1</td>\n",
              "    </tr>\n",
              "    <tr>\n",
              "      <th>3</th>\n",
              "      <td>4</td>\n",
              "      <td>Female</td>\n",
              "      <td>23</td>\n",
              "      <td>16</td>\n",
              "      <td>77</td>\n",
              "      <td>0</td>\n",
              "      <td>1</td>\n",
              "    </tr>\n",
              "    <tr>\n",
              "      <th>5</th>\n",
              "      <td>6</td>\n",
              "      <td>Female</td>\n",
              "      <td>22</td>\n",
              "      <td>17</td>\n",
              "      <td>76</td>\n",
              "      <td>0</td>\n",
              "      <td>1</td>\n",
              "    </tr>\n",
              "    <tr>\n",
              "      <th>7</th>\n",
              "      <td>8</td>\n",
              "      <td>Female</td>\n",
              "      <td>23</td>\n",
              "      <td>18</td>\n",
              "      <td>94</td>\n",
              "      <td>0</td>\n",
              "      <td>1</td>\n",
              "    </tr>\n",
              "    <tr>\n",
              "      <th>9</th>\n",
              "      <td>10</td>\n",
              "      <td>Female</td>\n",
              "      <td>30</td>\n",
              "      <td>19</td>\n",
              "      <td>72</td>\n",
              "      <td>0</td>\n",
              "      <td>1</td>\n",
              "    </tr>\n",
              "    <tr>\n",
              "      <th>11</th>\n",
              "      <td>12</td>\n",
              "      <td>Female</td>\n",
              "      <td>35</td>\n",
              "      <td>19</td>\n",
              "      <td>99</td>\n",
              "      <td>0</td>\n",
              "      <td>1</td>\n",
              "    </tr>\n",
              "    <tr>\n",
              "      <th>13</th>\n",
              "      <td>14</td>\n",
              "      <td>Female</td>\n",
              "      <td>24</td>\n",
              "      <td>20</td>\n",
              "      <td>77</td>\n",
              "      <td>0</td>\n",
              "      <td>1</td>\n",
              "    </tr>\n",
              "    <tr>\n",
              "      <th>15</th>\n",
              "      <td>16</td>\n",
              "      <td>Male</td>\n",
              "      <td>22</td>\n",
              "      <td>20</td>\n",
              "      <td>79</td>\n",
              "      <td>0</td>\n",
              "      <td>1</td>\n",
              "    </tr>\n",
              "    <tr>\n",
              "      <th>17</th>\n",
              "      <td>18</td>\n",
              "      <td>Male</td>\n",
              "      <td>20</td>\n",
              "      <td>21</td>\n",
              "      <td>66</td>\n",
              "      <td>0</td>\n",
              "      <td>1</td>\n",
              "    </tr>\n",
              "    <tr>\n",
              "      <th>19</th>\n",
              "      <td>20</td>\n",
              "      <td>Female</td>\n",
              "      <td>35</td>\n",
              "      <td>23</td>\n",
              "      <td>98</td>\n",
              "      <td>0</td>\n",
              "      <td>1</td>\n",
              "    </tr>\n",
              "    <tr>\n",
              "      <th>21</th>\n",
              "      <td>22</td>\n",
              "      <td>Male</td>\n",
              "      <td>25</td>\n",
              "      <td>24</td>\n",
              "      <td>73</td>\n",
              "      <td>0</td>\n",
              "      <td>1</td>\n",
              "    </tr>\n",
              "    <tr>\n",
              "      <th>23</th>\n",
              "      <td>24</td>\n",
              "      <td>Male</td>\n",
              "      <td>31</td>\n",
              "      <td>25</td>\n",
              "      <td>73</td>\n",
              "      <td>0</td>\n",
              "      <td>1</td>\n",
              "    </tr>\n",
              "    <tr>\n",
              "      <th>25</th>\n",
              "      <td>26</td>\n",
              "      <td>Male</td>\n",
              "      <td>29</td>\n",
              "      <td>28</td>\n",
              "      <td>82</td>\n",
              "      <td>0</td>\n",
              "      <td>1</td>\n",
              "    </tr>\n",
              "    <tr>\n",
              "      <th>27</th>\n",
              "      <td>28</td>\n",
              "      <td>Male</td>\n",
              "      <td>35</td>\n",
              "      <td>28</td>\n",
              "      <td>61</td>\n",
              "      <td>0</td>\n",
              "      <td>1</td>\n",
              "    </tr>\n",
              "    <tr>\n",
              "      <th>29</th>\n",
              "      <td>30</td>\n",
              "      <td>Female</td>\n",
              "      <td>23</td>\n",
              "      <td>29</td>\n",
              "      <td>87</td>\n",
              "      <td>0</td>\n",
              "      <td>1</td>\n",
              "    </tr>\n",
              "    <tr>\n",
              "      <th>31</th>\n",
              "      <td>32</td>\n",
              "      <td>Female</td>\n",
              "      <td>21</td>\n",
              "      <td>30</td>\n",
              "      <td>73</td>\n",
              "      <td>0</td>\n",
              "      <td>1</td>\n",
              "    </tr>\n",
              "    <tr>\n",
              "      <th>33</th>\n",
              "      <td>34</td>\n",
              "      <td>Male</td>\n",
              "      <td>18</td>\n",
              "      <td>33</td>\n",
              "      <td>92</td>\n",
              "      <td>0</td>\n",
              "      <td>1</td>\n",
              "    </tr>\n",
              "    <tr>\n",
              "      <th>35</th>\n",
              "      <td>36</td>\n",
              "      <td>Female</td>\n",
              "      <td>21</td>\n",
              "      <td>33</td>\n",
              "      <td>81</td>\n",
              "      <td>0</td>\n",
              "      <td>1</td>\n",
              "    </tr>\n",
              "    <tr>\n",
              "      <th>37</th>\n",
              "      <td>38</td>\n",
              "      <td>Female</td>\n",
              "      <td>30</td>\n",
              "      <td>34</td>\n",
              "      <td>73</td>\n",
              "      <td>0</td>\n",
              "      <td>1</td>\n",
              "    </tr>\n",
              "    <tr>\n",
              "      <th>39</th>\n",
              "      <td>40</td>\n",
              "      <td>Female</td>\n",
              "      <td>20</td>\n",
              "      <td>37</td>\n",
              "      <td>75</td>\n",
              "      <td>0</td>\n",
              "      <td>1</td>\n",
              "    </tr>\n",
              "    <tr>\n",
              "      <th>41</th>\n",
              "      <td>42</td>\n",
              "      <td>Male</td>\n",
              "      <td>24</td>\n",
              "      <td>38</td>\n",
              "      <td>92</td>\n",
              "      <td>0</td>\n",
              "      <td>1</td>\n",
              "    </tr>\n",
              "    <tr>\n",
              "      <th>45</th>\n",
              "      <td>46</td>\n",
              "      <td>Female</td>\n",
              "      <td>24</td>\n",
              "      <td>39</td>\n",
              "      <td>65</td>\n",
              "      <td>0</td>\n",
              "      <td>1</td>\n",
              "    </tr>\n",
              "  </tbody>\n",
              "</table>\n",
              "</div>"
            ],
            "text/plain": [
              "    CustomerID     Sex  Age  Income  Spending  is_potential  cluster\n",
              "1            2    Male   21      15        81             0        1\n",
              "3            4  Female   23      16        77             0        1\n",
              "5            6  Female   22      17        76             0        1\n",
              "7            8  Female   23      18        94             0        1\n",
              "9           10  Female   30      19        72             0        1\n",
              "11          12  Female   35      19        99             0        1\n",
              "13          14  Female   24      20        77             0        1\n",
              "15          16    Male   22      20        79             0        1\n",
              "17          18    Male   20      21        66             0        1\n",
              "19          20  Female   35      23        98             0        1\n",
              "21          22    Male   25      24        73             0        1\n",
              "23          24    Male   31      25        73             0        1\n",
              "25          26    Male   29      28        82             0        1\n",
              "27          28    Male   35      28        61             0        1\n",
              "29          30  Female   23      29        87             0        1\n",
              "31          32  Female   21      30        73             0        1\n",
              "33          34    Male   18      33        92             0        1\n",
              "35          36  Female   21      33        81             0        1\n",
              "37          38  Female   30      34        73             0        1\n",
              "39          40  Female   20      37        75             0        1\n",
              "41          42    Male   24      38        92             0        1\n",
              "45          46  Female   24      39        65             0        1"
            ]
          },
          "metadata": {
            "tags": []
          },
          "execution_count": 74
        }
      ]
    },
    {
      "cell_type": "code",
      "metadata": {
        "colab": {
          "base_uri": "https://localhost:8080/"
        },
        "id": "J6atOIj_f-jK",
        "outputId": "4dd0a1d1-7ff9-4997-8059-4f5be54dd795"
      },
      "source": [
        "len(df[df['cluster'].isin(['1'])])"
      ],
      "execution_count": 75,
      "outputs": [
        {
          "output_type": "execute_result",
          "data": {
            "text/plain": [
              "22"
            ]
          },
          "metadata": {
            "tags": []
          },
          "execution_count": 75
        }
      ]
    },
    {
      "cell_type": "markdown",
      "metadata": {
        "id": "dRc2HSD4i8pr"
      },
      "source": [
        "Rekomendasi aksi: \n",
        "\n",
        "1. Meningkatkan promosi disaat **event promosi bulanan atau impromptu/perayaan tertentu** seperti **5-5 sale, 6-6 sale, ulang tahun ecommerce**, karena cenderung tertarik melihat promo besar-besaran dan \n",
        "\n",
        "2. Menawarkan **paket membership** sebagai apresiasi serta menjaga tingginya angka Spending\n",
        "\n"
      ]
    },
    {
      "cell_type": "markdown",
      "metadata": {
        "id": "Dov953w6ksc_"
      },
      "source": [
        "## Seperlunya"
      ]
    },
    {
      "cell_type": "markdown",
      "metadata": {
        "id": "ubcskLtqirUd"
      },
      "source": [
        "Berikut merupakan data untuk **Customer seperlunya**, terdapat 80 data (terbanyak dari yang lain)"
      ]
    },
    {
      "cell_type": "code",
      "metadata": {
        "colab": {
          "base_uri": "https://localhost:8080/",
          "height": 417
        },
        "id": "UoTzlvwjgj0v",
        "outputId": "c8dda533-544c-457f-8274-870e3c0c91d9"
      },
      "source": [
        "df[df['cluster'].isin(['4'])]"
      ],
      "execution_count": 81,
      "outputs": [
        {
          "output_type": "execute_result",
          "data": {
            "text/html": [
              "<div>\n",
              "<style scoped>\n",
              "    .dataframe tbody tr th:only-of-type {\n",
              "        vertical-align: middle;\n",
              "    }\n",
              "\n",
              "    .dataframe tbody tr th {\n",
              "        vertical-align: top;\n",
              "    }\n",
              "\n",
              "    .dataframe thead th {\n",
              "        text-align: right;\n",
              "    }\n",
              "</style>\n",
              "<table border=\"1\" class=\"dataframe\">\n",
              "  <thead>\n",
              "    <tr style=\"text-align: right;\">\n",
              "      <th></th>\n",
              "      <th>CustomerID</th>\n",
              "      <th>Sex</th>\n",
              "      <th>Age</th>\n",
              "      <th>Income</th>\n",
              "      <th>Spending</th>\n",
              "      <th>is_potential</th>\n",
              "      <th>cluster</th>\n",
              "    </tr>\n",
              "  </thead>\n",
              "  <tbody>\n",
              "    <tr>\n",
              "      <th>43</th>\n",
              "      <td>44</td>\n",
              "      <td>Female</td>\n",
              "      <td>31</td>\n",
              "      <td>39</td>\n",
              "      <td>61</td>\n",
              "      <td>0</td>\n",
              "      <td>4</td>\n",
              "    </tr>\n",
              "    <tr>\n",
              "      <th>46</th>\n",
              "      <td>47</td>\n",
              "      <td>Female</td>\n",
              "      <td>50</td>\n",
              "      <td>40</td>\n",
              "      <td>55</td>\n",
              "      <td>0</td>\n",
              "      <td>4</td>\n",
              "    </tr>\n",
              "    <tr>\n",
              "      <th>47</th>\n",
              "      <td>48</td>\n",
              "      <td>Female</td>\n",
              "      <td>27</td>\n",
              "      <td>40</td>\n",
              "      <td>47</td>\n",
              "      <td>0</td>\n",
              "      <td>4</td>\n",
              "    </tr>\n",
              "    <tr>\n",
              "      <th>48</th>\n",
              "      <td>49</td>\n",
              "      <td>Female</td>\n",
              "      <td>29</td>\n",
              "      <td>40</td>\n",
              "      <td>42</td>\n",
              "      <td>0</td>\n",
              "      <td>4</td>\n",
              "    </tr>\n",
              "    <tr>\n",
              "      <th>49</th>\n",
              "      <td>50</td>\n",
              "      <td>Female</td>\n",
              "      <td>31</td>\n",
              "      <td>40</td>\n",
              "      <td>42</td>\n",
              "      <td>0</td>\n",
              "      <td>4</td>\n",
              "    </tr>\n",
              "    <tr>\n",
              "      <th>...</th>\n",
              "      <td>...</td>\n",
              "      <td>...</td>\n",
              "      <td>...</td>\n",
              "      <td>...</td>\n",
              "      <td>...</td>\n",
              "      <td>...</td>\n",
              "      <td>...</td>\n",
              "    </tr>\n",
              "    <tr>\n",
              "      <th>120</th>\n",
              "      <td>121</td>\n",
              "      <td>Male</td>\n",
              "      <td>27</td>\n",
              "      <td>67</td>\n",
              "      <td>56</td>\n",
              "      <td>0</td>\n",
              "      <td>4</td>\n",
              "    </tr>\n",
              "    <tr>\n",
              "      <th>121</th>\n",
              "      <td>122</td>\n",
              "      <td>Female</td>\n",
              "      <td>38</td>\n",
              "      <td>67</td>\n",
              "      <td>40</td>\n",
              "      <td>0</td>\n",
              "      <td>4</td>\n",
              "    </tr>\n",
              "    <tr>\n",
              "      <th>122</th>\n",
              "      <td>123</td>\n",
              "      <td>Female</td>\n",
              "      <td>40</td>\n",
              "      <td>69</td>\n",
              "      <td>58</td>\n",
              "      <td>0</td>\n",
              "      <td>4</td>\n",
              "    </tr>\n",
              "    <tr>\n",
              "      <th>126</th>\n",
              "      <td>127</td>\n",
              "      <td>Male</td>\n",
              "      <td>43</td>\n",
              "      <td>71</td>\n",
              "      <td>35</td>\n",
              "      <td>0</td>\n",
              "      <td>4</td>\n",
              "    </tr>\n",
              "    <tr>\n",
              "      <th>142</th>\n",
              "      <td>143</td>\n",
              "      <td>Female</td>\n",
              "      <td>28</td>\n",
              "      <td>76</td>\n",
              "      <td>40</td>\n",
              "      <td>0</td>\n",
              "      <td>4</td>\n",
              "    </tr>\n",
              "  </tbody>\n",
              "</table>\n",
              "<p>80 rows × 7 columns</p>\n",
              "</div>"
            ],
            "text/plain": [
              "     CustomerID     Sex  Age  Income  Spending  is_potential  cluster\n",
              "43           44  Female   31      39        61             0        4\n",
              "46           47  Female   50      40        55             0        4\n",
              "47           48  Female   27      40        47             0        4\n",
              "48           49  Female   29      40        42             0        4\n",
              "49           50  Female   31      40        42             0        4\n",
              "..          ...     ...  ...     ...       ...           ...      ...\n",
              "120         121    Male   27      67        56             0        4\n",
              "121         122  Female   38      67        40             0        4\n",
              "122         123  Female   40      69        58             0        4\n",
              "126         127    Male   43      71        35             0        4\n",
              "142         143  Female   28      76        40             0        4\n",
              "\n",
              "[80 rows x 7 columns]"
            ]
          },
          "metadata": {
            "tags": []
          },
          "execution_count": 81
        }
      ]
    },
    {
      "cell_type": "code",
      "metadata": {
        "colab": {
          "base_uri": "https://localhost:8080/"
        },
        "id": "_E122dXIgtAq",
        "outputId": "2c9bd36b-7ae0-478f-8398-a1e8428940ac"
      },
      "source": [
        "len(df[df['cluster'].isin(['4'])])"
      ],
      "execution_count": 83,
      "outputs": [
        {
          "output_type": "execute_result",
          "data": {
            "text/plain": [
              "80"
            ]
          },
          "metadata": {
            "tags": []
          },
          "execution_count": 83
        }
      ]
    },
    {
      "cell_type": "markdown",
      "metadata": {
        "id": "xZ7BRjOtjE3N"
      },
      "source": [
        "Rekomendasi aksi:\n",
        "\n",
        "1. Menurunkan harga atau memberikan **diskon barang**, karena spending mereka sudah cukup besar dan menjaga agar tidak menurun, serta\n",
        "\n",
        "2. Memberikan **voucher belanja** dengan minimum tertentu, tujuannya untuk menaikkan angka Spending"
      ]
    },
    {
      "cell_type": "markdown",
      "metadata": {
        "id": "mFqxF-V_kvKa"
      },
      "source": [
        "## Sultan"
      ]
    },
    {
      "cell_type": "markdown",
      "metadata": {
        "id": "scaQGPcBgUDT"
      },
      "source": [
        "Berikut merupakan data untuk **Customer sultan**, terdapat 38 data"
      ]
    },
    {
      "cell_type": "code",
      "metadata": {
        "colab": {
          "base_uri": "https://localhost:8080/",
          "height": 1000
        },
        "id": "5nRSgYyDg70b",
        "outputId": "968b75a2-e6d8-4b5e-8d63-7e7ac3247a27"
      },
      "source": [
        "df[df['cluster'].isin(['0'])]"
      ],
      "execution_count": 86,
      "outputs": [
        {
          "output_type": "execute_result",
          "data": {
            "text/html": [
              "<div>\n",
              "<style scoped>\n",
              "    .dataframe tbody tr th:only-of-type {\n",
              "        vertical-align: middle;\n",
              "    }\n",
              "\n",
              "    .dataframe tbody tr th {\n",
              "        vertical-align: top;\n",
              "    }\n",
              "\n",
              "    .dataframe thead th {\n",
              "        text-align: right;\n",
              "    }\n",
              "</style>\n",
              "<table border=\"1\" class=\"dataframe\">\n",
              "  <thead>\n",
              "    <tr style=\"text-align: right;\">\n",
              "      <th></th>\n",
              "      <th>CustomerID</th>\n",
              "      <th>Sex</th>\n",
              "      <th>Age</th>\n",
              "      <th>Income</th>\n",
              "      <th>Spending</th>\n",
              "      <th>is_potential</th>\n",
              "      <th>cluster</th>\n",
              "    </tr>\n",
              "  </thead>\n",
              "  <tbody>\n",
              "    <tr>\n",
              "      <th>123</th>\n",
              "      <td>124</td>\n",
              "      <td>Male</td>\n",
              "      <td>39</td>\n",
              "      <td>69</td>\n",
              "      <td>91</td>\n",
              "      <td>0</td>\n",
              "      <td>0</td>\n",
              "    </tr>\n",
              "    <tr>\n",
              "      <th>125</th>\n",
              "      <td>126</td>\n",
              "      <td>Female</td>\n",
              "      <td>31</td>\n",
              "      <td>70</td>\n",
              "      <td>77</td>\n",
              "      <td>0</td>\n",
              "      <td>0</td>\n",
              "    </tr>\n",
              "    <tr>\n",
              "      <th>127</th>\n",
              "      <td>128</td>\n",
              "      <td>Male</td>\n",
              "      <td>40</td>\n",
              "      <td>71</td>\n",
              "      <td>95</td>\n",
              "      <td>0</td>\n",
              "      <td>0</td>\n",
              "    </tr>\n",
              "    <tr>\n",
              "      <th>129</th>\n",
              "      <td>130</td>\n",
              "      <td>Male</td>\n",
              "      <td>38</td>\n",
              "      <td>71</td>\n",
              "      <td>75</td>\n",
              "      <td>0</td>\n",
              "      <td>0</td>\n",
              "    </tr>\n",
              "    <tr>\n",
              "      <th>131</th>\n",
              "      <td>132</td>\n",
              "      <td>Male</td>\n",
              "      <td>39</td>\n",
              "      <td>71</td>\n",
              "      <td>75</td>\n",
              "      <td>0</td>\n",
              "      <td>0</td>\n",
              "    </tr>\n",
              "    <tr>\n",
              "      <th>133</th>\n",
              "      <td>134</td>\n",
              "      <td>Female</td>\n",
              "      <td>31</td>\n",
              "      <td>72</td>\n",
              "      <td>71</td>\n",
              "      <td>0</td>\n",
              "      <td>0</td>\n",
              "    </tr>\n",
              "    <tr>\n",
              "      <th>135</th>\n",
              "      <td>136</td>\n",
              "      <td>Female</td>\n",
              "      <td>29</td>\n",
              "      <td>73</td>\n",
              "      <td>88</td>\n",
              "      <td>0</td>\n",
              "      <td>0</td>\n",
              "    </tr>\n",
              "    <tr>\n",
              "      <th>137</th>\n",
              "      <td>138</td>\n",
              "      <td>Male</td>\n",
              "      <td>32</td>\n",
              "      <td>73</td>\n",
              "      <td>73</td>\n",
              "      <td>0</td>\n",
              "      <td>0</td>\n",
              "    </tr>\n",
              "    <tr>\n",
              "      <th>139</th>\n",
              "      <td>140</td>\n",
              "      <td>Female</td>\n",
              "      <td>35</td>\n",
              "      <td>74</td>\n",
              "      <td>72</td>\n",
              "      <td>0</td>\n",
              "      <td>0</td>\n",
              "    </tr>\n",
              "    <tr>\n",
              "      <th>141</th>\n",
              "      <td>142</td>\n",
              "      <td>Male</td>\n",
              "      <td>32</td>\n",
              "      <td>75</td>\n",
              "      <td>93</td>\n",
              "      <td>0</td>\n",
              "      <td>0</td>\n",
              "    </tr>\n",
              "    <tr>\n",
              "      <th>143</th>\n",
              "      <td>144</td>\n",
              "      <td>Female</td>\n",
              "      <td>32</td>\n",
              "      <td>76</td>\n",
              "      <td>87</td>\n",
              "      <td>0</td>\n",
              "      <td>0</td>\n",
              "    </tr>\n",
              "    <tr>\n",
              "      <th>145</th>\n",
              "      <td>146</td>\n",
              "      <td>Male</td>\n",
              "      <td>28</td>\n",
              "      <td>77</td>\n",
              "      <td>97</td>\n",
              "      <td>0</td>\n",
              "      <td>0</td>\n",
              "    </tr>\n",
              "    <tr>\n",
              "      <th>147</th>\n",
              "      <td>148</td>\n",
              "      <td>Female</td>\n",
              "      <td>32</td>\n",
              "      <td>77</td>\n",
              "      <td>74</td>\n",
              "      <td>0</td>\n",
              "      <td>0</td>\n",
              "    </tr>\n",
              "    <tr>\n",
              "      <th>149</th>\n",
              "      <td>150</td>\n",
              "      <td>Male</td>\n",
              "      <td>34</td>\n",
              "      <td>78</td>\n",
              "      <td>90</td>\n",
              "      <td>0</td>\n",
              "      <td>0</td>\n",
              "    </tr>\n",
              "    <tr>\n",
              "      <th>151</th>\n",
              "      <td>152</td>\n",
              "      <td>Male</td>\n",
              "      <td>39</td>\n",
              "      <td>78</td>\n",
              "      <td>88</td>\n",
              "      <td>0</td>\n",
              "      <td>0</td>\n",
              "    </tr>\n",
              "    <tr>\n",
              "      <th>153</th>\n",
              "      <td>154</td>\n",
              "      <td>Female</td>\n",
              "      <td>38</td>\n",
              "      <td>78</td>\n",
              "      <td>76</td>\n",
              "      <td>0</td>\n",
              "      <td>0</td>\n",
              "    </tr>\n",
              "    <tr>\n",
              "      <th>155</th>\n",
              "      <td>156</td>\n",
              "      <td>Female</td>\n",
              "      <td>27</td>\n",
              "      <td>78</td>\n",
              "      <td>89</td>\n",
              "      <td>0</td>\n",
              "      <td>0</td>\n",
              "    </tr>\n",
              "    <tr>\n",
              "      <th>157</th>\n",
              "      <td>158</td>\n",
              "      <td>Female</td>\n",
              "      <td>30</td>\n",
              "      <td>78</td>\n",
              "      <td>78</td>\n",
              "      <td>0</td>\n",
              "      <td>0</td>\n",
              "    </tr>\n",
              "    <tr>\n",
              "      <th>159</th>\n",
              "      <td>160</td>\n",
              "      <td>Female</td>\n",
              "      <td>30</td>\n",
              "      <td>78</td>\n",
              "      <td>73</td>\n",
              "      <td>0</td>\n",
              "      <td>0</td>\n",
              "    </tr>\n",
              "    <tr>\n",
              "      <th>161</th>\n",
              "      <td>162</td>\n",
              "      <td>Female</td>\n",
              "      <td>29</td>\n",
              "      <td>79</td>\n",
              "      <td>83</td>\n",
              "      <td>0</td>\n",
              "      <td>0</td>\n",
              "    </tr>\n",
              "    <tr>\n",
              "      <th>163</th>\n",
              "      <td>164</td>\n",
              "      <td>Female</td>\n",
              "      <td>31</td>\n",
              "      <td>81</td>\n",
              "      <td>93</td>\n",
              "      <td>0</td>\n",
              "      <td>0</td>\n",
              "    </tr>\n",
              "    <tr>\n",
              "      <th>165</th>\n",
              "      <td>166</td>\n",
              "      <td>Female</td>\n",
              "      <td>36</td>\n",
              "      <td>85</td>\n",
              "      <td>75</td>\n",
              "      <td>0</td>\n",
              "      <td>0</td>\n",
              "    </tr>\n",
              "    <tr>\n",
              "      <th>167</th>\n",
              "      <td>168</td>\n",
              "      <td>Female</td>\n",
              "      <td>33</td>\n",
              "      <td>86</td>\n",
              "      <td>95</td>\n",
              "      <td>0</td>\n",
              "      <td>0</td>\n",
              "    </tr>\n",
              "    <tr>\n",
              "      <th>169</th>\n",
              "      <td>170</td>\n",
              "      <td>Male</td>\n",
              "      <td>32</td>\n",
              "      <td>87</td>\n",
              "      <td>63</td>\n",
              "      <td>0</td>\n",
              "      <td>0</td>\n",
              "    </tr>\n",
              "    <tr>\n",
              "      <th>171</th>\n",
              "      <td>172</td>\n",
              "      <td>Male</td>\n",
              "      <td>28</td>\n",
              "      <td>87</td>\n",
              "      <td>75</td>\n",
              "      <td>0</td>\n",
              "      <td>0</td>\n",
              "    </tr>\n",
              "    <tr>\n",
              "      <th>173</th>\n",
              "      <td>174</td>\n",
              "      <td>Male</td>\n",
              "      <td>36</td>\n",
              "      <td>87</td>\n",
              "      <td>92</td>\n",
              "      <td>0</td>\n",
              "      <td>0</td>\n",
              "    </tr>\n",
              "    <tr>\n",
              "      <th>175</th>\n",
              "      <td>176</td>\n",
              "      <td>Female</td>\n",
              "      <td>30</td>\n",
              "      <td>88</td>\n",
              "      <td>86</td>\n",
              "      <td>0</td>\n",
              "      <td>0</td>\n",
              "    </tr>\n",
              "    <tr>\n",
              "      <th>177</th>\n",
              "      <td>178</td>\n",
              "      <td>Male</td>\n",
              "      <td>27</td>\n",
              "      <td>88</td>\n",
              "      <td>69</td>\n",
              "      <td>0</td>\n",
              "      <td>0</td>\n",
              "    </tr>\n",
              "    <tr>\n",
              "      <th>179</th>\n",
              "      <td>180</td>\n",
              "      <td>Male</td>\n",
              "      <td>35</td>\n",
              "      <td>93</td>\n",
              "      <td>90</td>\n",
              "      <td>0</td>\n",
              "      <td>0</td>\n",
              "    </tr>\n",
              "    <tr>\n",
              "      <th>181</th>\n",
              "      <td>182</td>\n",
              "      <td>Female</td>\n",
              "      <td>32</td>\n",
              "      <td>97</td>\n",
              "      <td>86</td>\n",
              "      <td>0</td>\n",
              "      <td>0</td>\n",
              "    </tr>\n",
              "    <tr>\n",
              "      <th>183</th>\n",
              "      <td>184</td>\n",
              "      <td>Female</td>\n",
              "      <td>29</td>\n",
              "      <td>98</td>\n",
              "      <td>88</td>\n",
              "      <td>0</td>\n",
              "      <td>0</td>\n",
              "    </tr>\n",
              "    <tr>\n",
              "      <th>185</th>\n",
              "      <td>186</td>\n",
              "      <td>Male</td>\n",
              "      <td>30</td>\n",
              "      <td>99</td>\n",
              "      <td>97</td>\n",
              "      <td>0</td>\n",
              "      <td>0</td>\n",
              "    </tr>\n",
              "    <tr>\n",
              "      <th>187</th>\n",
              "      <td>188</td>\n",
              "      <td>Male</td>\n",
              "      <td>28</td>\n",
              "      <td>101</td>\n",
              "      <td>68</td>\n",
              "      <td>0</td>\n",
              "      <td>0</td>\n",
              "    </tr>\n",
              "    <tr>\n",
              "      <th>189</th>\n",
              "      <td>190</td>\n",
              "      <td>Female</td>\n",
              "      <td>36</td>\n",
              "      <td>103</td>\n",
              "      <td>85</td>\n",
              "      <td>0</td>\n",
              "      <td>0</td>\n",
              "    </tr>\n",
              "    <tr>\n",
              "      <th>191</th>\n",
              "      <td>192</td>\n",
              "      <td>Female</td>\n",
              "      <td>32</td>\n",
              "      <td>103</td>\n",
              "      <td>69</td>\n",
              "      <td>0</td>\n",
              "      <td>0</td>\n",
              "    </tr>\n",
              "    <tr>\n",
              "      <th>193</th>\n",
              "      <td>194</td>\n",
              "      <td>Female</td>\n",
              "      <td>38</td>\n",
              "      <td>113</td>\n",
              "      <td>91</td>\n",
              "      <td>0</td>\n",
              "      <td>0</td>\n",
              "    </tr>\n",
              "    <tr>\n",
              "      <th>195</th>\n",
              "      <td>196</td>\n",
              "      <td>Female</td>\n",
              "      <td>35</td>\n",
              "      <td>120</td>\n",
              "      <td>79</td>\n",
              "      <td>0</td>\n",
              "      <td>0</td>\n",
              "    </tr>\n",
              "    <tr>\n",
              "      <th>197</th>\n",
              "      <td>198</td>\n",
              "      <td>Male</td>\n",
              "      <td>32</td>\n",
              "      <td>126</td>\n",
              "      <td>74</td>\n",
              "      <td>0</td>\n",
              "      <td>0</td>\n",
              "    </tr>\n",
              "  </tbody>\n",
              "</table>\n",
              "</div>"
            ],
            "text/plain": [
              "     CustomerID     Sex  Age  Income  Spending  is_potential  cluster\n",
              "123         124    Male   39      69        91             0        0\n",
              "125         126  Female   31      70        77             0        0\n",
              "127         128    Male   40      71        95             0        0\n",
              "129         130    Male   38      71        75             0        0\n",
              "131         132    Male   39      71        75             0        0\n",
              "133         134  Female   31      72        71             0        0\n",
              "135         136  Female   29      73        88             0        0\n",
              "137         138    Male   32      73        73             0        0\n",
              "139         140  Female   35      74        72             0        0\n",
              "141         142    Male   32      75        93             0        0\n",
              "143         144  Female   32      76        87             0        0\n",
              "145         146    Male   28      77        97             0        0\n",
              "147         148  Female   32      77        74             0        0\n",
              "149         150    Male   34      78        90             0        0\n",
              "151         152    Male   39      78        88             0        0\n",
              "153         154  Female   38      78        76             0        0\n",
              "155         156  Female   27      78        89             0        0\n",
              "157         158  Female   30      78        78             0        0\n",
              "159         160  Female   30      78        73             0        0\n",
              "161         162  Female   29      79        83             0        0\n",
              "163         164  Female   31      81        93             0        0\n",
              "165         166  Female   36      85        75             0        0\n",
              "167         168  Female   33      86        95             0        0\n",
              "169         170    Male   32      87        63             0        0\n",
              "171         172    Male   28      87        75             0        0\n",
              "173         174    Male   36      87        92             0        0\n",
              "175         176  Female   30      88        86             0        0\n",
              "177         178    Male   27      88        69             0        0\n",
              "179         180    Male   35      93        90             0        0\n",
              "181         182  Female   32      97        86             0        0\n",
              "183         184  Female   29      98        88             0        0\n",
              "185         186    Male   30      99        97             0        0\n",
              "187         188    Male   28     101        68             0        0\n",
              "189         190  Female   36     103        85             0        0\n",
              "191         192  Female   32     103        69             0        0\n",
              "193         194  Female   38     113        91             0        0\n",
              "195         196  Female   35     120        79             0        0\n",
              "197         198    Male   32     126        74             0        0"
            ]
          },
          "metadata": {
            "tags": []
          },
          "execution_count": 86
        }
      ]
    },
    {
      "cell_type": "code",
      "metadata": {
        "colab": {
          "base_uri": "https://localhost:8080/"
        },
        "id": "PjcPWlOrg9rB",
        "outputId": "c10e867d-4733-44f4-986f-4fc00f2f47fa"
      },
      "source": [
        "len(df[df['cluster'].isin(['0'])])"
      ],
      "execution_count": 87,
      "outputs": [
        {
          "output_type": "execute_result",
          "data": {
            "text/plain": [
              "38"
            ]
          },
          "metadata": {
            "tags": []
          },
          "execution_count": 87
        }
      ]
    },
    {
      "cell_type": "markdown",
      "metadata": {
        "id": "IELchCTEjVjk"
      },
      "source": [
        "Rekomendasi aksi: \n",
        "1.  Menawarkan **paket Membership** bernama-nama mewah seperti Platinum, Gold dengan **hadiah-hadiah menarik (seperti voucher belanja atau Buy 1Get 1)**. Alasannya karena Spending mereka besar, Income juga besar dan kita ingin mempertahankan angka itu"
      ]
    },
    {
      "cell_type": "markdown",
      "metadata": {
        "id": "EN-6B-Mjkw4A"
      },
      "source": [
        "## Hemat"
      ]
    },
    {
      "cell_type": "markdown",
      "metadata": {
        "id": "otaOdsJrgqZg"
      },
      "source": [
        "Berikut merupakan data untuk **Customer hemat**, terdapat 23 data"
      ]
    },
    {
      "cell_type": "code",
      "metadata": {
        "colab": {
          "base_uri": "https://localhost:8080/",
          "height": 758
        },
        "id": "abUMYgR5gZof",
        "outputId": "25adad4e-83d0-48da-b574-e77d144fd07c"
      },
      "source": [
        "df[df['cluster'].isin(['3'])]"
      ],
      "execution_count": 91,
      "outputs": [
        {
          "output_type": "execute_result",
          "data": {
            "text/html": [
              "<div>\n",
              "<style scoped>\n",
              "    .dataframe tbody tr th:only-of-type {\n",
              "        vertical-align: middle;\n",
              "    }\n",
              "\n",
              "    .dataframe tbody tr th {\n",
              "        vertical-align: top;\n",
              "    }\n",
              "\n",
              "    .dataframe thead th {\n",
              "        text-align: right;\n",
              "    }\n",
              "</style>\n",
              "<table border=\"1\" class=\"dataframe\">\n",
              "  <thead>\n",
              "    <tr style=\"text-align: right;\">\n",
              "      <th></th>\n",
              "      <th>CustomerID</th>\n",
              "      <th>Sex</th>\n",
              "      <th>Age</th>\n",
              "      <th>Income</th>\n",
              "      <th>Spending</th>\n",
              "      <th>is_potential</th>\n",
              "      <th>cluster</th>\n",
              "    </tr>\n",
              "  </thead>\n",
              "  <tbody>\n",
              "    <tr>\n",
              "      <th>0</th>\n",
              "      <td>1</td>\n",
              "      <td>Male</td>\n",
              "      <td>19</td>\n",
              "      <td>15</td>\n",
              "      <td>39</td>\n",
              "      <td>0</td>\n",
              "      <td>3</td>\n",
              "    </tr>\n",
              "    <tr>\n",
              "      <th>2</th>\n",
              "      <td>3</td>\n",
              "      <td>Female</td>\n",
              "      <td>20</td>\n",
              "      <td>16</td>\n",
              "      <td>6</td>\n",
              "      <td>0</td>\n",
              "      <td>3</td>\n",
              "    </tr>\n",
              "    <tr>\n",
              "      <th>4</th>\n",
              "      <td>5</td>\n",
              "      <td>Female</td>\n",
              "      <td>31</td>\n",
              "      <td>17</td>\n",
              "      <td>40</td>\n",
              "      <td>0</td>\n",
              "      <td>3</td>\n",
              "    </tr>\n",
              "    <tr>\n",
              "      <th>6</th>\n",
              "      <td>7</td>\n",
              "      <td>Female</td>\n",
              "      <td>35</td>\n",
              "      <td>18</td>\n",
              "      <td>6</td>\n",
              "      <td>0</td>\n",
              "      <td>3</td>\n",
              "    </tr>\n",
              "    <tr>\n",
              "      <th>8</th>\n",
              "      <td>9</td>\n",
              "      <td>Male</td>\n",
              "      <td>64</td>\n",
              "      <td>19</td>\n",
              "      <td>3</td>\n",
              "      <td>0</td>\n",
              "      <td>3</td>\n",
              "    </tr>\n",
              "    <tr>\n",
              "      <th>10</th>\n",
              "      <td>11</td>\n",
              "      <td>Male</td>\n",
              "      <td>67</td>\n",
              "      <td>19</td>\n",
              "      <td>14</td>\n",
              "      <td>0</td>\n",
              "      <td>3</td>\n",
              "    </tr>\n",
              "    <tr>\n",
              "      <th>12</th>\n",
              "      <td>13</td>\n",
              "      <td>Female</td>\n",
              "      <td>58</td>\n",
              "      <td>20</td>\n",
              "      <td>15</td>\n",
              "      <td>0</td>\n",
              "      <td>3</td>\n",
              "    </tr>\n",
              "    <tr>\n",
              "      <th>14</th>\n",
              "      <td>15</td>\n",
              "      <td>Male</td>\n",
              "      <td>37</td>\n",
              "      <td>20</td>\n",
              "      <td>13</td>\n",
              "      <td>0</td>\n",
              "      <td>3</td>\n",
              "    </tr>\n",
              "    <tr>\n",
              "      <th>16</th>\n",
              "      <td>17</td>\n",
              "      <td>Female</td>\n",
              "      <td>35</td>\n",
              "      <td>21</td>\n",
              "      <td>35</td>\n",
              "      <td>0</td>\n",
              "      <td>3</td>\n",
              "    </tr>\n",
              "    <tr>\n",
              "      <th>18</th>\n",
              "      <td>19</td>\n",
              "      <td>Male</td>\n",
              "      <td>52</td>\n",
              "      <td>23</td>\n",
              "      <td>29</td>\n",
              "      <td>0</td>\n",
              "      <td>3</td>\n",
              "    </tr>\n",
              "    <tr>\n",
              "      <th>20</th>\n",
              "      <td>21</td>\n",
              "      <td>Male</td>\n",
              "      <td>35</td>\n",
              "      <td>24</td>\n",
              "      <td>35</td>\n",
              "      <td>0</td>\n",
              "      <td>3</td>\n",
              "    </tr>\n",
              "    <tr>\n",
              "      <th>22</th>\n",
              "      <td>23</td>\n",
              "      <td>Female</td>\n",
              "      <td>46</td>\n",
              "      <td>25</td>\n",
              "      <td>5</td>\n",
              "      <td>0</td>\n",
              "      <td>3</td>\n",
              "    </tr>\n",
              "    <tr>\n",
              "      <th>24</th>\n",
              "      <td>25</td>\n",
              "      <td>Female</td>\n",
              "      <td>54</td>\n",
              "      <td>28</td>\n",
              "      <td>14</td>\n",
              "      <td>0</td>\n",
              "      <td>3</td>\n",
              "    </tr>\n",
              "    <tr>\n",
              "      <th>26</th>\n",
              "      <td>27</td>\n",
              "      <td>Female</td>\n",
              "      <td>45</td>\n",
              "      <td>28</td>\n",
              "      <td>32</td>\n",
              "      <td>0</td>\n",
              "      <td>3</td>\n",
              "    </tr>\n",
              "    <tr>\n",
              "      <th>28</th>\n",
              "      <td>29</td>\n",
              "      <td>Female</td>\n",
              "      <td>40</td>\n",
              "      <td>29</td>\n",
              "      <td>31</td>\n",
              "      <td>0</td>\n",
              "      <td>3</td>\n",
              "    </tr>\n",
              "    <tr>\n",
              "      <th>30</th>\n",
              "      <td>31</td>\n",
              "      <td>Male</td>\n",
              "      <td>60</td>\n",
              "      <td>30</td>\n",
              "      <td>4</td>\n",
              "      <td>0</td>\n",
              "      <td>3</td>\n",
              "    </tr>\n",
              "    <tr>\n",
              "      <th>32</th>\n",
              "      <td>33</td>\n",
              "      <td>Male</td>\n",
              "      <td>53</td>\n",
              "      <td>33</td>\n",
              "      <td>4</td>\n",
              "      <td>0</td>\n",
              "      <td>3</td>\n",
              "    </tr>\n",
              "    <tr>\n",
              "      <th>34</th>\n",
              "      <td>35</td>\n",
              "      <td>Female</td>\n",
              "      <td>49</td>\n",
              "      <td>33</td>\n",
              "      <td>14</td>\n",
              "      <td>0</td>\n",
              "      <td>3</td>\n",
              "    </tr>\n",
              "    <tr>\n",
              "      <th>36</th>\n",
              "      <td>37</td>\n",
              "      <td>Female</td>\n",
              "      <td>42</td>\n",
              "      <td>34</td>\n",
              "      <td>17</td>\n",
              "      <td>0</td>\n",
              "      <td>3</td>\n",
              "    </tr>\n",
              "    <tr>\n",
              "      <th>38</th>\n",
              "      <td>39</td>\n",
              "      <td>Female</td>\n",
              "      <td>36</td>\n",
              "      <td>37</td>\n",
              "      <td>26</td>\n",
              "      <td>0</td>\n",
              "      <td>3</td>\n",
              "    </tr>\n",
              "    <tr>\n",
              "      <th>40</th>\n",
              "      <td>41</td>\n",
              "      <td>Female</td>\n",
              "      <td>65</td>\n",
              "      <td>38</td>\n",
              "      <td>35</td>\n",
              "      <td>0</td>\n",
              "      <td>3</td>\n",
              "    </tr>\n",
              "    <tr>\n",
              "      <th>42</th>\n",
              "      <td>43</td>\n",
              "      <td>Male</td>\n",
              "      <td>48</td>\n",
              "      <td>39</td>\n",
              "      <td>36</td>\n",
              "      <td>0</td>\n",
              "      <td>3</td>\n",
              "    </tr>\n",
              "    <tr>\n",
              "      <th>44</th>\n",
              "      <td>45</td>\n",
              "      <td>Female</td>\n",
              "      <td>49</td>\n",
              "      <td>39</td>\n",
              "      <td>28</td>\n",
              "      <td>0</td>\n",
              "      <td>3</td>\n",
              "    </tr>\n",
              "  </tbody>\n",
              "</table>\n",
              "</div>"
            ],
            "text/plain": [
              "    CustomerID     Sex  Age  Income  Spending  is_potential  cluster\n",
              "0            1    Male   19      15        39             0        3\n",
              "2            3  Female   20      16         6             0        3\n",
              "4            5  Female   31      17        40             0        3\n",
              "6            7  Female   35      18         6             0        3\n",
              "8            9    Male   64      19         3             0        3\n",
              "10          11    Male   67      19        14             0        3\n",
              "12          13  Female   58      20        15             0        3\n",
              "14          15    Male   37      20        13             0        3\n",
              "16          17  Female   35      21        35             0        3\n",
              "18          19    Male   52      23        29             0        3\n",
              "20          21    Male   35      24        35             0        3\n",
              "22          23  Female   46      25         5             0        3\n",
              "24          25  Female   54      28        14             0        3\n",
              "26          27  Female   45      28        32             0        3\n",
              "28          29  Female   40      29        31             0        3\n",
              "30          31    Male   60      30         4             0        3\n",
              "32          33    Male   53      33         4             0        3\n",
              "34          35  Female   49      33        14             0        3\n",
              "36          37  Female   42      34        17             0        3\n",
              "38          39  Female   36      37        26             0        3\n",
              "40          41  Female   65      38        35             0        3\n",
              "42          43    Male   48      39        36             0        3\n",
              "44          45  Female   49      39        28             0        3"
            ]
          },
          "metadata": {
            "tags": []
          },
          "execution_count": 91
        }
      ]
    },
    {
      "cell_type": "code",
      "metadata": {
        "colab": {
          "base_uri": "https://localhost:8080/"
        },
        "id": "wpKoYbrQihHD",
        "outputId": "91780f9a-0d8a-454e-d054-17b6dc547fd7"
      },
      "source": [
        "len(df[df['cluster'].isin(['3'])])"
      ],
      "execution_count": 89,
      "outputs": [
        {
          "output_type": "execute_result",
          "data": {
            "text/plain": [
              "23"
            ]
          },
          "metadata": {
            "tags": []
          },
          "execution_count": 89
        }
      ]
    },
    {
      "cell_type": "markdown",
      "metadata": {
        "id": "VYTB3PAyjiVE"
      },
      "source": [
        "Rekomendasi aksi: \n",
        "\n",
        "1. Memberikan voucher yang didapatkan setelah melewati minimum belanja tertentu. Hal ini dilakukan agar mereka membeli lebih banyak barang atau Spending mereka naik\n",
        "\n",
        "2. Meningkatkan promosi disaat **event promosi bulanan atau impromptu/perayaan tertentu** seperti **5-5 sale, 6-6 sale, ulang tahun ecommerce**, karena cenderung tertarik melihat promo besar-besaran dan \n"
      ]
    },
    {
      "cell_type": "markdown",
      "metadata": {
        "id": "G3tQv2kAkyAv"
      },
      "source": [
        "## Picky\n",
        "\n"
      ]
    },
    {
      "cell_type": "markdown",
      "metadata": {
        "id": "ZIX8fKSvg6-B"
      },
      "source": [
        "Berikut merupakan data untuk **customer picky**, terdapat 35 data"
      ]
    },
    {
      "cell_type": "code",
      "metadata": {
        "colab": {
          "base_uri": "https://localhost:8080/",
          "height": 1000
        },
        "id": "pxYAOvkEgMYh",
        "outputId": "e035a9bc-9c9a-40d7-9868-e3cac9edc154"
      },
      "source": [
        "df[df['cluster'].isin(['2'])]"
      ],
      "execution_count": 76,
      "outputs": [
        {
          "output_type": "execute_result",
          "data": {
            "text/html": [
              "<div>\n",
              "<style scoped>\n",
              "    .dataframe tbody tr th:only-of-type {\n",
              "        vertical-align: middle;\n",
              "    }\n",
              "\n",
              "    .dataframe tbody tr th {\n",
              "        vertical-align: top;\n",
              "    }\n",
              "\n",
              "    .dataframe thead th {\n",
              "        text-align: right;\n",
              "    }\n",
              "</style>\n",
              "<table border=\"1\" class=\"dataframe\">\n",
              "  <thead>\n",
              "    <tr style=\"text-align: right;\">\n",
              "      <th></th>\n",
              "      <th>CustomerID</th>\n",
              "      <th>Sex</th>\n",
              "      <th>Age</th>\n",
              "      <th>Income</th>\n",
              "      <th>Spending</th>\n",
              "      <th>is_potential</th>\n",
              "      <th>cluster</th>\n",
              "    </tr>\n",
              "  </thead>\n",
              "  <tbody>\n",
              "    <tr>\n",
              "      <th>124</th>\n",
              "      <td>125</td>\n",
              "      <td>Female</td>\n",
              "      <td>23</td>\n",
              "      <td>70</td>\n",
              "      <td>29</td>\n",
              "      <td>0</td>\n",
              "      <td>2</td>\n",
              "    </tr>\n",
              "    <tr>\n",
              "      <th>128</th>\n",
              "      <td>129</td>\n",
              "      <td>Male</td>\n",
              "      <td>59</td>\n",
              "      <td>71</td>\n",
              "      <td>11</td>\n",
              "      <td>0</td>\n",
              "      <td>2</td>\n",
              "    </tr>\n",
              "    <tr>\n",
              "      <th>130</th>\n",
              "      <td>131</td>\n",
              "      <td>Male</td>\n",
              "      <td>47</td>\n",
              "      <td>71</td>\n",
              "      <td>9</td>\n",
              "      <td>0</td>\n",
              "      <td>2</td>\n",
              "    </tr>\n",
              "    <tr>\n",
              "      <th>132</th>\n",
              "      <td>133</td>\n",
              "      <td>Female</td>\n",
              "      <td>25</td>\n",
              "      <td>72</td>\n",
              "      <td>34</td>\n",
              "      <td>0</td>\n",
              "      <td>2</td>\n",
              "    </tr>\n",
              "    <tr>\n",
              "      <th>134</th>\n",
              "      <td>135</td>\n",
              "      <td>Male</td>\n",
              "      <td>20</td>\n",
              "      <td>73</td>\n",
              "      <td>5</td>\n",
              "      <td>0</td>\n",
              "      <td>2</td>\n",
              "    </tr>\n",
              "    <tr>\n",
              "      <th>136</th>\n",
              "      <td>137</td>\n",
              "      <td>Female</td>\n",
              "      <td>44</td>\n",
              "      <td>73</td>\n",
              "      <td>7</td>\n",
              "      <td>0</td>\n",
              "      <td>2</td>\n",
              "    </tr>\n",
              "    <tr>\n",
              "      <th>138</th>\n",
              "      <td>139</td>\n",
              "      <td>Male</td>\n",
              "      <td>19</td>\n",
              "      <td>74</td>\n",
              "      <td>10</td>\n",
              "      <td>0</td>\n",
              "      <td>2</td>\n",
              "    </tr>\n",
              "    <tr>\n",
              "      <th>140</th>\n",
              "      <td>141</td>\n",
              "      <td>Female</td>\n",
              "      <td>57</td>\n",
              "      <td>75</td>\n",
              "      <td>5</td>\n",
              "      <td>0</td>\n",
              "      <td>2</td>\n",
              "    </tr>\n",
              "    <tr>\n",
              "      <th>144</th>\n",
              "      <td>145</td>\n",
              "      <td>Male</td>\n",
              "      <td>25</td>\n",
              "      <td>77</td>\n",
              "      <td>12</td>\n",
              "      <td>0</td>\n",
              "      <td>2</td>\n",
              "    </tr>\n",
              "    <tr>\n",
              "      <th>146</th>\n",
              "      <td>147</td>\n",
              "      <td>Male</td>\n",
              "      <td>48</td>\n",
              "      <td>77</td>\n",
              "      <td>36</td>\n",
              "      <td>0</td>\n",
              "      <td>2</td>\n",
              "    </tr>\n",
              "    <tr>\n",
              "      <th>148</th>\n",
              "      <td>149</td>\n",
              "      <td>Female</td>\n",
              "      <td>34</td>\n",
              "      <td>78</td>\n",
              "      <td>22</td>\n",
              "      <td>0</td>\n",
              "      <td>2</td>\n",
              "    </tr>\n",
              "    <tr>\n",
              "      <th>150</th>\n",
              "      <td>151</td>\n",
              "      <td>Male</td>\n",
              "      <td>43</td>\n",
              "      <td>78</td>\n",
              "      <td>17</td>\n",
              "      <td>0</td>\n",
              "      <td>2</td>\n",
              "    </tr>\n",
              "    <tr>\n",
              "      <th>152</th>\n",
              "      <td>153</td>\n",
              "      <td>Female</td>\n",
              "      <td>44</td>\n",
              "      <td>78</td>\n",
              "      <td>20</td>\n",
              "      <td>0</td>\n",
              "      <td>2</td>\n",
              "    </tr>\n",
              "    <tr>\n",
              "      <th>154</th>\n",
              "      <td>155</td>\n",
              "      <td>Female</td>\n",
              "      <td>47</td>\n",
              "      <td>78</td>\n",
              "      <td>16</td>\n",
              "      <td>0</td>\n",
              "      <td>2</td>\n",
              "    </tr>\n",
              "    <tr>\n",
              "      <th>156</th>\n",
              "      <td>157</td>\n",
              "      <td>Male</td>\n",
              "      <td>37</td>\n",
              "      <td>78</td>\n",
              "      <td>1</td>\n",
              "      <td>0</td>\n",
              "      <td>2</td>\n",
              "    </tr>\n",
              "    <tr>\n",
              "      <th>158</th>\n",
              "      <td>159</td>\n",
              "      <td>Male</td>\n",
              "      <td>34</td>\n",
              "      <td>78</td>\n",
              "      <td>1</td>\n",
              "      <td>0</td>\n",
              "      <td>2</td>\n",
              "    </tr>\n",
              "    <tr>\n",
              "      <th>160</th>\n",
              "      <td>161</td>\n",
              "      <td>Female</td>\n",
              "      <td>56</td>\n",
              "      <td>79</td>\n",
              "      <td>35</td>\n",
              "      <td>0</td>\n",
              "      <td>2</td>\n",
              "    </tr>\n",
              "    <tr>\n",
              "      <th>162</th>\n",
              "      <td>163</td>\n",
              "      <td>Male</td>\n",
              "      <td>19</td>\n",
              "      <td>81</td>\n",
              "      <td>5</td>\n",
              "      <td>0</td>\n",
              "      <td>2</td>\n",
              "    </tr>\n",
              "    <tr>\n",
              "      <th>164</th>\n",
              "      <td>165</td>\n",
              "      <td>Male</td>\n",
              "      <td>50</td>\n",
              "      <td>85</td>\n",
              "      <td>26</td>\n",
              "      <td>0</td>\n",
              "      <td>2</td>\n",
              "    </tr>\n",
              "    <tr>\n",
              "      <th>166</th>\n",
              "      <td>167</td>\n",
              "      <td>Male</td>\n",
              "      <td>42</td>\n",
              "      <td>86</td>\n",
              "      <td>20</td>\n",
              "      <td>0</td>\n",
              "      <td>2</td>\n",
              "    </tr>\n",
              "    <tr>\n",
              "      <th>168</th>\n",
              "      <td>169</td>\n",
              "      <td>Female</td>\n",
              "      <td>36</td>\n",
              "      <td>87</td>\n",
              "      <td>27</td>\n",
              "      <td>0</td>\n",
              "      <td>2</td>\n",
              "    </tr>\n",
              "    <tr>\n",
              "      <th>170</th>\n",
              "      <td>171</td>\n",
              "      <td>Male</td>\n",
              "      <td>40</td>\n",
              "      <td>87</td>\n",
              "      <td>13</td>\n",
              "      <td>0</td>\n",
              "      <td>2</td>\n",
              "    </tr>\n",
              "    <tr>\n",
              "      <th>172</th>\n",
              "      <td>173</td>\n",
              "      <td>Male</td>\n",
              "      <td>36</td>\n",
              "      <td>87</td>\n",
              "      <td>10</td>\n",
              "      <td>0</td>\n",
              "      <td>2</td>\n",
              "    </tr>\n",
              "    <tr>\n",
              "      <th>174</th>\n",
              "      <td>175</td>\n",
              "      <td>Female</td>\n",
              "      <td>52</td>\n",
              "      <td>88</td>\n",
              "      <td>13</td>\n",
              "      <td>0</td>\n",
              "      <td>2</td>\n",
              "    </tr>\n",
              "    <tr>\n",
              "      <th>176</th>\n",
              "      <td>177</td>\n",
              "      <td>Male</td>\n",
              "      <td>58</td>\n",
              "      <td>88</td>\n",
              "      <td>15</td>\n",
              "      <td>0</td>\n",
              "      <td>2</td>\n",
              "    </tr>\n",
              "    <tr>\n",
              "      <th>178</th>\n",
              "      <td>179</td>\n",
              "      <td>Male</td>\n",
              "      <td>59</td>\n",
              "      <td>93</td>\n",
              "      <td>14</td>\n",
              "      <td>0</td>\n",
              "      <td>2</td>\n",
              "    </tr>\n",
              "    <tr>\n",
              "      <th>180</th>\n",
              "      <td>181</td>\n",
              "      <td>Female</td>\n",
              "      <td>37</td>\n",
              "      <td>97</td>\n",
              "      <td>32</td>\n",
              "      <td>0</td>\n",
              "      <td>2</td>\n",
              "    </tr>\n",
              "    <tr>\n",
              "      <th>182</th>\n",
              "      <td>183</td>\n",
              "      <td>Male</td>\n",
              "      <td>46</td>\n",
              "      <td>98</td>\n",
              "      <td>15</td>\n",
              "      <td>0</td>\n",
              "      <td>2</td>\n",
              "    </tr>\n",
              "    <tr>\n",
              "      <th>184</th>\n",
              "      <td>185</td>\n",
              "      <td>Female</td>\n",
              "      <td>41</td>\n",
              "      <td>99</td>\n",
              "      <td>39</td>\n",
              "      <td>0</td>\n",
              "      <td>2</td>\n",
              "    </tr>\n",
              "    <tr>\n",
              "      <th>186</th>\n",
              "      <td>187</td>\n",
              "      <td>Female</td>\n",
              "      <td>54</td>\n",
              "      <td>101</td>\n",
              "      <td>24</td>\n",
              "      <td>0</td>\n",
              "      <td>2</td>\n",
              "    </tr>\n",
              "    <tr>\n",
              "      <th>188</th>\n",
              "      <td>189</td>\n",
              "      <td>Female</td>\n",
              "      <td>41</td>\n",
              "      <td>103</td>\n",
              "      <td>17</td>\n",
              "      <td>0</td>\n",
              "      <td>2</td>\n",
              "    </tr>\n",
              "    <tr>\n",
              "      <th>190</th>\n",
              "      <td>191</td>\n",
              "      <td>Female</td>\n",
              "      <td>34</td>\n",
              "      <td>103</td>\n",
              "      <td>23</td>\n",
              "      <td>0</td>\n",
              "      <td>2</td>\n",
              "    </tr>\n",
              "    <tr>\n",
              "      <th>192</th>\n",
              "      <td>193</td>\n",
              "      <td>Male</td>\n",
              "      <td>33</td>\n",
              "      <td>113</td>\n",
              "      <td>8</td>\n",
              "      <td>0</td>\n",
              "      <td>2</td>\n",
              "    </tr>\n",
              "    <tr>\n",
              "      <th>194</th>\n",
              "      <td>195</td>\n",
              "      <td>Female</td>\n",
              "      <td>47</td>\n",
              "      <td>120</td>\n",
              "      <td>16</td>\n",
              "      <td>0</td>\n",
              "      <td>2</td>\n",
              "    </tr>\n",
              "    <tr>\n",
              "      <th>196</th>\n",
              "      <td>197</td>\n",
              "      <td>Female</td>\n",
              "      <td>45</td>\n",
              "      <td>126</td>\n",
              "      <td>28</td>\n",
              "      <td>0</td>\n",
              "      <td>2</td>\n",
              "    </tr>\n",
              "  </tbody>\n",
              "</table>\n",
              "</div>"
            ],
            "text/plain": [
              "     CustomerID     Sex  Age  Income  Spending  is_potential  cluster\n",
              "124         125  Female   23      70        29             0        2\n",
              "128         129    Male   59      71        11             0        2\n",
              "130         131    Male   47      71         9             0        2\n",
              "132         133  Female   25      72        34             0        2\n",
              "134         135    Male   20      73         5             0        2\n",
              "136         137  Female   44      73         7             0        2\n",
              "138         139    Male   19      74        10             0        2\n",
              "140         141  Female   57      75         5             0        2\n",
              "144         145    Male   25      77        12             0        2\n",
              "146         147    Male   48      77        36             0        2\n",
              "148         149  Female   34      78        22             0        2\n",
              "150         151    Male   43      78        17             0        2\n",
              "152         153  Female   44      78        20             0        2\n",
              "154         155  Female   47      78        16             0        2\n",
              "156         157    Male   37      78         1             0        2\n",
              "158         159    Male   34      78         1             0        2\n",
              "160         161  Female   56      79        35             0        2\n",
              "162         163    Male   19      81         5             0        2\n",
              "164         165    Male   50      85        26             0        2\n",
              "166         167    Male   42      86        20             0        2\n",
              "168         169  Female   36      87        27             0        2\n",
              "170         171    Male   40      87        13             0        2\n",
              "172         173    Male   36      87        10             0        2\n",
              "174         175  Female   52      88        13             0        2\n",
              "176         177    Male   58      88        15             0        2\n",
              "178         179    Male   59      93        14             0        2\n",
              "180         181  Female   37      97        32             0        2\n",
              "182         183    Male   46      98        15             0        2\n",
              "184         185  Female   41      99        39             0        2\n",
              "186         187  Female   54     101        24             0        2\n",
              "188         189  Female   41     103        17             0        2\n",
              "190         191  Female   34     103        23             0        2\n",
              "192         193    Male   33     113         8             0        2\n",
              "194         195  Female   47     120        16             0        2\n",
              "196         197  Female   45     126        28             0        2"
            ]
          },
          "metadata": {
            "tags": []
          },
          "execution_count": 76
        }
      ]
    },
    {
      "cell_type": "code",
      "metadata": {
        "colab": {
          "base_uri": "https://localhost:8080/"
        },
        "id": "kgfavS2GgPkX",
        "outputId": "64895f12-67b0-492a-9ef6-c55f399d8a6c"
      },
      "source": [
        "len(df[df['cluster'].isin(['2'])])"
      ],
      "execution_count": 77,
      "outputs": [
        {
          "output_type": "execute_result",
          "data": {
            "text/plain": [
              "35"
            ]
          },
          "metadata": {
            "tags": []
          },
          "execution_count": 77
        }
      ]
    },
    {
      "cell_type": "markdown",
      "metadata": {
        "id": "HSbJRv5KjoG6"
      },
      "source": [
        "Rekomendasi aksi:\n",
        "1. Memberikan diskon terhadap produk atau merek tertentu yang biasa mereka beli. Hal ini dikarenakan mereka sebelumnya sudah merasa nyaman dengan merek tersebut dan cenderung membeli lagi. Kita juga dapat \n",
        "\n",
        "2. Menawarkan **paket membership** seperti Customer Sultan. Alasannya agar tertarik belanja dan menaikkan Spending, karena Income mereka besar"
      ]
    },
    {
      "cell_type": "markdown",
      "metadata": {
        "id": "yiprpp78k04U"
      },
      "source": [
        "## Ucapan terima kasih"
      ]
    },
    {
      "cell_type": "markdown",
      "metadata": {
        "id": "QhJYDzMIjzda"
      },
      "source": [
        "Sekian dari saya sebagai Data Scientist dari Store Matahati cabang Dopek, terima kasih.\n",
        "\n",
        "Canda matahati Depok, terima kasih atas ilmunya mas Irwan, mas Adiva, mas Calvin + mas Dito, mas Doni, semua kru dibimbing khususnya kak Miranda dan yang gabisa disebutin satu-persatuuu. Feels so grateful for all this! :D"
      ]
    }
  ]
}